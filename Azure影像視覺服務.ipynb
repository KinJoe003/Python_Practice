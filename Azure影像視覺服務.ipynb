{
 "cells": [
  {
   "cell_type": "markdown",
   "id": "fc6e0739",
   "metadata": {},
   "source": [
    "# 物件偵測"
   ]
  },
  {
   "cell_type": "markdown",
   "id": "2e6e2c11",
   "metadata": {},
   "source": [
    "## AUTHENTICATE: 驗證用戶端"
   ]
  },
  {
   "cell_type": "code",
   "execution_count": 3,
   "id": "32e8f12e",
   "metadata": {},
   "outputs": [],
   "source": [
    "from azure.cognitiveservices.vision.computervision \\\n",
    "import ComputerVisionClient\n",
    "from msrest.authentication import CognitiveServicesCredentials\n",
    "\n",
    "SUBSCRIPTION_KEY = \"94020429c5874d348734a8d2a7fd3b5d\"\n",
    "ENDPOINT = \"https://computertest.cognitiveservices.azure.com/\"\n",
    "CV_CLIENT = ComputerVisionClient(\n",
    "    ENDPOINT, CognitiveServicesCredentials(SUBSCRIPTION_KEY)\n",
    ")"
   ]
  },
  {
   "cell_type": "code",
   "execution_count": 6,
   "id": "b7339b81",
   "metadata": {},
   "outputs": [],
   "source": [
    "from io import BytesIO\n",
    "import requests\n",
    "from PIL import Image, ImageDraw, ImageFont\n",
    "\n",
    "url = \"https://i.imgur.com/Js5H6Qa.jpg\"\n",
    "response = requests.get(url)\n",
    "img = Image.open(BytesIO(response.content))"
   ]
  },
  {
   "cell_type": "code",
   "execution_count": 10,
   "id": "7fb18b74",
   "metadata": {},
   "outputs": [],
   "source": [
    "draw = ImageDraw.Draw(img)\n",
    "font_size = int(5e-2 * img.size[1])\n",
    "fnt = ImageFont.truetype(\n",
    "  \"./TaipeiSansTCBeta-Regular.ttf\",\n",
    "  size=font_size)"
   ]
  },
  {
   "cell_type": "code",
   "execution_count": 11,
   "id": "e4b28eaf",
   "metadata": {},
   "outputs": [
    {
     "name": "stdout",
     "output_type": "stream",
     "text": [
      "chair at location 819, 1011, 7, 284\n",
      "chair at location 479, 661, 70, 408\n",
      "tabby cat at location 341, 1082, 411, 859\n"
     ]
    }
   ],
   "source": [
    "object_detection = CV_CLIENT.detect_objects(url)\n",
    "if len(object_detection.objects) > 0:\n",
    "    for obj in object_detection.objects:\n",
    "        left = obj.rectangle.x\n",
    "        top = obj.rectangle.y\n",
    "        right = obj.rectangle.x + obj.rectangle.w\n",
    "        bot = obj.rectangle.y + obj.rectangle.h\n",
    "        name = obj.object_property\n",
    "        confidence = obj.confidence\n",
    "        print(\"{} at location {}, {}, {}, {}\".format(\n",
    "          name, left, right, top, bot))"
   ]
  },
  {
   "cell_type": "code",
   "execution_count": 13,
   "id": "edb6ad69",
   "metadata": {},
   "outputs": [],
   "source": [
    "draw.rectangle(\n",
    "          [left, top, right, bot],\n",
    "          outline=(255, 0, 0), width=3)\n",
    "draw.text(\n",
    "            [left, top + font_size],\n",
    "            \"{0} {1:0.1f}\".format(name, confidence * 100),\n",
    "            fill=(255, 0, 0),\n",
    "            font=fnt,\n",
    "        )"
   ]
  },
  {
   "cell_type": "code",
   "execution_count": 14,
   "id": "fb09c9ff",
   "metadata": {},
   "outputs": [],
   "source": [
    "img.save(\"output.png\")"
   ]
  },
  {
   "cell_type": "markdown",
   "id": "409f103e",
   "metadata": {},
   "source": [
    "# OCR偵測"
   ]
  },
  {
   "cell_type": "code",
   "execution_count": 15,
   "id": "e7fa7197",
   "metadata": {},
   "outputs": [],
   "source": [
    "from io import BytesIO\n",
    "import requests\n",
    "from PIL import Image, ImageDraw, ImageFont\n",
    "\n",
    "url = \"https://i.imgur.com/qyWiqQv.jpg\"\n",
    "response = requests.get(url)\n",
    "img = Image.open(BytesIO(response.content))"
   ]
  },
  {
   "cell_type": "code",
   "execution_count": 16,
   "id": "ee754c08",
   "metadata": {},
   "outputs": [],
   "source": [
    "draw = ImageDraw.Draw(img)\n",
    "font_size = int(5e-2 * img.size[1])\n",
    "fnt = ImageFont.truetype(\n",
    "  \"./TaipeiSansTCBeta-Regular.ttf\",\n",
    "  size=font_size)"
   ]
  },
  {
   "cell_type": "code",
   "execution_count": 17,
   "id": "c9125221",
   "metadata": {},
   "outputs": [],
   "source": [
    "ocr_results = CV_CLIENT.read(url, raw=True)\n",
    "operation_location_remote = \\\n",
    "ocr_results.headers[\"Operation-Location\"]\n",
    "operation_id = operation_location_remote.split(\"/\")[-1]"
   ]
  },
  {
   "cell_type": "code",
   "execution_count": 18,
   "id": "bd1cbac2",
   "metadata": {},
   "outputs": [],
   "source": [
    "status = [\"notStarted\", \"running\"]\n",
    "while True:\n",
    "    get_handw_text_results = \\\n",
    "    CV_CLIENT.get_read_result(operation_id)\n",
    "    if get_handw_text_results.status not in status:\n",
    "        break\n",
    "    time.sleep(1)"
   ]
  },
  {
   "cell_type": "code",
   "execution_count": 22,
   "id": "a3f94924",
   "metadata": {},
   "outputs": [],
   "source": [
    "from azure.cognitiveservices.vision.computervision.models import OperationStatusCodes\n",
    "succeeded = OperationStatusCodes.succeeded\n",
    "\n",
    "if get_handw_text_results.status == succeeded:\n",
    "    res = get_handw_text_results.analyze_result.read_results\n",
    "    for text_result in res:\n",
    "        for line in text_result.lines:\n",
    "            bounding_box = line.bounding_box\n",
    "            bounding_box += bounding_box[:2]\n",
    "            draw.line(\n",
    "                line.bounding_box, \n",
    "                fill=(255, 0, 0), \n",
    "                width=int(font_size / 10)\n",
    "            )\n",
    "            left = line.bounding_box[0]\n",
    "            top = line.bounding_box[1]\n",
    "            draw.text(\n",
    "                [left, top - font_size],\n",
    "                line.text,\n",
    "                fill=(0, 255, 255),\n",
    "                font=fnt,\n",
    "            )\n",
    "            \n",
    "img.save(\"output.png\")            "
   ]
  },
  {
   "cell_type": "markdown",
   "id": "e38a77fa",
   "metadata": {},
   "source": [
    "### 產生描述"
   ]
  },
  {
   "cell_type": "code",
   "execution_count": 36,
   "id": "d6f68ab1",
   "metadata": {},
   "outputs": [
    {
     "name": "stdout",
     "output_type": "stream",
     "text": [
      "'a dog running with a ball in its mouth' with confidence 60.56% \n",
      "\n"
     ]
    }
   ],
   "source": [
    "url = \"https://cdn2.lamag.com/wp-content/uploads/sites/6/2015/02/puppy.jpg\"\n",
    "description_results = CV_CLIENT.describe_image(url)\n",
    "output = \"\"\n",
    "for caption in description_results.captions:\n",
    "    output += \"'{}' with confidence {:.2f}% \\n\".format(\n",
    "        caption.text, caption.confidence * 100\n",
    "    )\n",
    "print(output)"
   ]
  },
  {
   "cell_type": "code",
   "execution_count": null,
   "id": "3c9f6db7",
   "metadata": {},
   "outputs": [],
   "source": []
  }
 ],
 "metadata": {
  "kernelspec": {
   "display_name": "Python 3",
   "language": "python",
   "name": "python3"
  },
  "language_info": {
   "codemirror_mode": {
    "name": "ipython",
    "version": 3
   },
   "file_extension": ".py",
   "mimetype": "text/x-python",
   "name": "python",
   "nbconvert_exporter": "python",
   "pygments_lexer": "ipython3",
   "version": "3.7.11"
  }
 },
 "nbformat": 4,
 "nbformat_minor": 5
}
