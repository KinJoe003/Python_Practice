{
 "cells": [
  {
   "cell_type": "markdown",
   "id": "2a0e690b",
   "metadata": {},
   "source": [
    "# 基礎計算機模組A"
   ]
  },
  {
   "cell_type": "code",
   "execution_count": 1,
   "id": "07864197",
   "metadata": {},
   "outputs": [
    {
     "name": "stdout",
     "output_type": "stream",
     "text": [
      "選項:\n",
      "輸入 '+' 讓兩個數值互加\n",
      "輸入 '-' 讓兩個數值互減\n",
      "輸入 '*' 讓兩個數值互乘\n",
      "輸入 '/' 讓兩個數值互除\n",
      "輸入 'exit' 來結束程式\n",
      ": +\n",
      "請輸入數字:2\n",
      "請輸入另一個數字:3\n",
      "答案是 5.0\n",
      "選項:\n",
      "輸入 '+' 讓兩個數值互加\n",
      "輸入 '-' 讓兩個數值互減\n",
      "輸入 '*' 讓兩個數值互乘\n",
      "輸入 '/' 讓兩個數值互除\n",
      "輸入 'exit' 來結束程式\n",
      ": exit\n"
     ]
    }
   ],
   "source": [
    "#先輸入數字1再輸入符號，接著輸入數字2，才會自動運算出答案。\n",
    "while True:\n",
    "   print(\"選項:\")\n",
    "   print(\"輸入 '+' 讓兩個數值互加\")\n",
    "   print(\"輸入 '-' 讓兩個數值互減\")\n",
    "   print(\"輸入 '*' 讓兩個數值互乘\")\n",
    "   print(\"輸入 '/' 讓兩個數值互除\")\n",
    "   print(\"輸入 'exit' 來結束程式\")\n",
    "   user_input = input(\": \")\n",
    "\n",
    "   if user_input == \"exit\":\n",
    "    break\n",
    "   elif user_input == \"+\":\n",
    "    num1 = float(input(\"請輸入數字:\"))\n",
    "\n",
    "    num2 = float(input(\"請輸入另一個數字:\"))\n",
    "\n",
    "    result = str(num1 + num2)\n",
    "\n",
    "    print(\"答案是 \" + result)\n",
    "\n",
    "   elif user_input == \"-\":\n",
    "    num1 = float(input(\"請輸入數字:\"))\n",
    "\n",
    "    num2 = float(input(\"請輸入另一個數字:\"))\n",
    "\n",
    "    result = str(num1 - num2)\n",
    "\n",
    "    print(\"答案是 \" + result)\n",
    "    \n",
    "   elif user_input == \"*\":\n",
    "    num1 = float(input(\"請輸入數字:\"))\n",
    "\n",
    "    num2 = float(input(\"請輸入另一個數字:\"))\n",
    "\n",
    "    result = str(num1 * num2)\n",
    "    \n",
    "    print(\"答案是 \" + result)\n",
    "    \n",
    "   elif user_input == \"/\":\n",
    "    num1 = float(input(\"請輸入數字:\"))\n",
    "\n",
    "    num2 = float(input(\"請輸入另一個數字:\"))\n",
    "\n",
    "    result = str(num1 // num2)\n",
    "    \n",
    "    print(\"答案是 \" + result) \n",
    "\n",
    "   else:\n",
    "      print(\"不知道你在輸入什麼\")"
   ]
  },
  {
   "cell_type": "markdown",
   "id": "f04a53a0",
   "metadata": {},
   "source": [
    "# 基礎計算機模組B"
   ]
  },
  {
   "cell_type": "code",
   "execution_count": 3,
   "id": "3080a62a",
   "metadata": {},
   "outputs": [
    {
     "name": "stdout",
     "output_type": "stream",
     "text": [
      "選項:\n",
      "2\n",
      "輸入 '+' 讓兩個數值互加\n",
      "輸入 '-' 讓兩個數值互減\n",
      "輸入 '*' 讓兩個數值互乘\n",
      "輸入 '/' 讓兩個數值互除\n",
      "輸入 'exit' 來結束程式\n",
      ": +\n",
      "3\n",
      "答案是 5.0\n",
      "選項:\n",
      "0\n",
      "輸入 '+' 讓兩個數值互加\n",
      "輸入 '-' 讓兩個數值互減\n",
      "輸入 '*' 讓兩個數值互乘\n",
      "輸入 '/' 讓兩個數值互除\n",
      "輸入 'exit' 來結束程式\n",
      ": exit\n"
     ]
    }
   ],
   "source": [
    "#先輸入數字1，再輸入符號，接著輸入數字2，才會運算出答案。(exit是在第二攔)\n",
    "while True:\n",
    "   print(\"選項:\")      \n",
    "   user_input1 = float(input(\"\"))\n",
    "    \n",
    "   print(\"輸入 '+' 讓兩個數值互加\")\n",
    "   print(\"輸入 '-' 讓兩個數值互減\")\n",
    "   print(\"輸入 '*' 讓兩個數值互乘\")\n",
    "   print(\"輸入 '/' 讓兩個數值互除\")\n",
    "   print(\"輸入 'exit' 來結束程式\")\n",
    "   user_input2 = input(\": \")\n",
    "\n",
    "   if user_input2 == \"exit\":\n",
    "      break\n",
    "   elif user_input2 == \"+\":\n",
    "    user_input3 = float(input(\"\"))  \n",
    "    \n",
    "    result = str(user_input1 + user_input3)\n",
    "\n",
    "    print(\"答案是 \" + result)\n",
    "    \n",
    "   elif user_input2 == \"-\":\n",
    "    user_input3 = float(input(\"\"))  \n",
    "    \n",
    "    result = str(user_input1 - user_input3)\n",
    "\n",
    "    print(\"答案是 \" + result)\n",
    "    \n",
    "   elif user_input2 == \"*\":\n",
    "    user_input3 = float(input(\"\"))  \n",
    "    \n",
    "    result = str(user_input1 * user_input3)\n",
    "\n",
    "    print(\"答案是 \" + result)\n",
    "    \n",
    "   elif user_input2 == \"/\":\n",
    "    user_input3 = float(input(\"\"))  \n",
    "    \n",
    "    result = str(user_input1 / user_input3)\n",
    "\n",
    "    print(\"答案是 \" + result)\n",
    "    \n",
    "   else:\n",
    "      print(\"不知道你在輸入什麼\")"
   ]
  },
  {
   "cell_type": "markdown",
   "id": "14703972",
   "metadata": {},
   "source": [
    "# 基礎計算機模組C"
   ]
  },
  {
   "cell_type": "code",
   "execution_count": 4,
   "id": "964cafbc",
   "metadata": {},
   "outputs": [
    {
     "name": "stdout",
     "output_type": "stream",
     "text": [
      "選項:\n",
      "2\n",
      "輸入 '+' 讓兩個數值互加\n",
      "輸入 '-' 讓兩個數值互減\n",
      "輸入 '*' 讓兩個數值互乘\n",
      "輸入 '/' 讓兩個數值互除\n",
      ": +\n",
      "3\n",
      "答案是 5.0\n",
      "選項:\n",
      "0\n",
      "輸入 '+' 讓兩個數值互加\n",
      "輸入 '-' 讓兩個數值互減\n",
      "輸入 '*' 讓兩個數值互乘\n",
      "輸入 '/' 讓兩個數值互除\n",
      ": exit\n",
      "選項:\n",
      "exit\n"
     ]
    }
   ],
   "source": [
    "#先輸入數字1，再輸入符號，接著輸入數字2，才會運算出答案。(exit是在第一攔)\n",
    "while True:\n",
    "   print(\"選項:\")\n",
    "   user_input1 = str(input(\"\"))\n",
    "   if user_input1 == \"exit\":\n",
    "      break\n",
    "   x1 = float(user_input1)\n",
    "\n",
    "   print(\"輸入 '+' 讓兩個數值互加\")\n",
    "   print(\"輸入 '-' 讓兩個數值互減\")\n",
    "   print(\"輸入 '*' 讓兩個數值互乘\")\n",
    "   print(\"輸入 '/' 讓兩個數值互除\")\n",
    "   user_input2 = input(\": \")\n",
    "    \n",
    "   if user_input2 == \"+\":\n",
    "      user_input3 = float(input(\"\"))\n",
    "\n",
    "      result = str(x1 + user_input3)\n",
    "\n",
    "      print(\"答案是 \" + result)"
   ]
  },
  {
   "cell_type": "markdown",
   "id": "4995b7e8",
   "metadata": {},
   "source": [
    "# 基礎計算機模組C"
   ]
  },
  {
   "cell_type": "code",
   "execution_count": 6,
   "id": "0b7eb572",
   "metadata": {},
   "outputs": [
    {
     "name": "stdout",
     "output_type": "stream",
     "text": [
      "請輸入第一個數字2\n",
      "請輸入1.加法2.減法3.乘法4.除法1\n",
      "請輸入第二個數字3\n",
      "2+3=5\n"
     ]
    }
   ],
   "source": [
    "def fun_cal(cal,a,b):\n",
    "    if(cal==1):\n",
    "        c=fun_plus(a,b)\n",
    "        d=str(a)+\"+\"+str(b)+\"=\"+str(c)\n",
    "        \n",
    "    elif(cal==2):\n",
    "        c=fun_less(a,b)\n",
    "        d=str(a)+\"-\"+str(b)+\"=\"+str(c)\n",
    "        \n",
    "    elif(cal==3):\n",
    "        c=fun_multiply(a,b)\n",
    "        d=str(a)+\"*\"+str(b)+\"=\"+str(c)\n",
    "        \n",
    "    elif(cal==4):\n",
    "        c=fun_except(a,b)\n",
    "        d=str(a)+\"/\"+str(b)+\"=\"+str(c) \n",
    "    return d\n",
    "\n",
    "def fun_plus(a,b):\n",
    "    c=a+b\n",
    "    return c\n",
    "\n",
    "def fun_less(a,b):\n",
    "    c=a-b\n",
    "    return c\n",
    "\n",
    "def fun_multiply(a,b):\n",
    "    c=a*b\n",
    "    return c\n",
    "\n",
    "def fun_except(a,b):\n",
    "    c=a/b\n",
    "    return c\n",
    "\n",
    "x=eval(input(\"請輸入第一個數字\"))\n",
    "cal=eval(input(\"請輸入1.加法2.減法3.乘法4.除法\"))\n",
    "y=eval(input(\"請輸入第二個數字\"))\n",
    "\n",
    "total=fun_cal(cal,x,y)\n",
    "print(total)"
   ]
  }
 ],
 "metadata": {
  "kernelspec": {
   "display_name": "Python 3",
   "language": "python",
   "name": "python3"
  },
  "language_info": {
   "codemirror_mode": {
    "name": "ipython",
    "version": 3
   },
   "file_extension": ".py",
   "mimetype": "text/x-python",
   "name": "python",
   "nbconvert_exporter": "python",
   "pygments_lexer": "ipython3",
   "version": "3.8.8"
  }
 },
 "nbformat": 4,
 "nbformat_minor": 5
}
