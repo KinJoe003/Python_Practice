{
 "cells": [
  {
   "cell_type": "markdown",
   "id": "3360d2c1",
   "metadata": {},
   "source": [
    "# Python生成隨機威力彩"
   ]
  },
  {
   "cell_type": "code",
   "execution_count": 85,
   "id": "45583204",
   "metadata": {},
   "outputs": [
    {
     "name": "stdout",
     "output_type": "stream",
     "text": [
      "請輸入要生成的威力彩號碼注數：5\n",
      "03 06 08 13 18 19      06 \n",
      "01 08 18 24 31 33      07 \n",
      "09 16 17 18 24 31      05 \n",
      "05 12 14 18 35 36      02 \n",
      "07 08 09 14 18 23      08 \n"
     ]
    }
   ],
   "source": [
    "import random\n",
    "\"\"\"\n",
    "使用python模擬威力彩號碼生成器。選號規則為：\n",
    "前區在1-38的範圍內隨機產生不重複的6個號碼，\n",
    "後區在1-8的範圍內隨機產生不重複的1個號碼。\n",
    "\"\"\"\n",
    "\n",
    "\n",
    "def card():\n",
    "    m = 0                                        # 威力彩總位數索引\n",
    "    front = []                                   # 前區列表\n",
    "    back = []                                    # 後區列表\n",
    "    while m < 7:\n",
    "        if m < 6:                                # 確保前區六個數字唯一不重複\n",
    "            card_number = random.randint(1, 38)\n",
    "            if card_number not in front:\n",
    "                front.append(card_number)\n",
    "                m += 1\n",
    "        else:\n",
    "            card_number = random.randint(1, 8)   # 確保後區一個數字唯一不重複\n",
    "            if card_number not in back:\n",
    "                back.append(card_number)\n",
    "                m += 1\n",
    "    front.sort()                                  # 將兩個列表進行升序排序\n",
    "    back.sort()\n",
    "    for j in front:\n",
    "        print('%02d' % j, end=' ')                # 依次輸出每個值，且個位數前面自動補0\n",
    "    print(end='     ')                            # 前區與後區之間有一定間隔\n",
    "    for k in back:\n",
    "        print('%02d' % k, end=' ')\n",
    "    print('')\n",
    "\n",
    "\n",
    "number = input('請輸入要生成的威力彩號碼注數：')\n",
    "for i in range(int(number)):\n",
    "    card()"
   ]
  },
  {
   "cell_type": "markdown",
   "id": "5a219306",
   "metadata": {},
   "source": [
    "# Python生成隨機大樂透"
   ]
  },
  {
   "cell_type": "code",
   "execution_count": 82,
   "id": "bbcfae3e",
   "metadata": {},
   "outputs": [
    {
     "name": "stdout",
     "output_type": "stream",
     "text": [
      "49 24 28 37 20 8 "
     ]
    }
   ],
   "source": [
    "import random\n",
    "\n",
    "lottery=[]  #存放彩球的陣列\n",
    "total = 49  #彩球的數量\n",
    "num = 6       #要抽的彩球數\n",
    "\n",
    "for i in range(1, total+1):\n",
    "       #將數字加入彩球陣列 (兩種寫法擇一)\n",
    "        #lottery.append(i)\n",
    "        lottery += [i]\n",
    "             \n",
    "\n",
    "for i in range(num):\n",
    "\n",
    "    n = random.randint(0, total-1)  #隨機產生抽出彩球的位置\n",
    "    print(lottery[n], end=\" \")  # 印出抽到的牌\n",
    "    del lottery[n]  #從彩球陣列刪掉抽到的球\n",
    "    total -= 1   #將彩球數減一"
   ]
  },
  {
   "cell_type": "markdown",
   "id": "fcb091ee",
   "metadata": {},
   "source": [
    "# Python生成隨機食物"
   ]
  },
  {
   "cell_type": "code",
   "execution_count": 1,
   "id": "c6f235e5",
   "metadata": {},
   "outputs": [
    {
     "name": "stdout",
     "output_type": "stream",
     "text": [
      "健康\n",
      "---------------\n",
      "飯\n"
     ]
    }
   ],
   "source": [
    "import random\n",
    "import string\n",
    "\n",
    "\n",
    "food = (\"美式\", \"中式\", \"日式\", \"西式\", \"台式\", \"健康\", \"牛排\", \"壽司\", \"鍋貼\", \"滷味\", \"炸物\", \"烤串\", \"泰式\", \"港式\")\n",
    "food2 = (\"飯\", \"麵\")\n",
    "sa = []\n",
    "sa2 = []\n",
    "for i in range(1):\n",
    "    sa.append(random.choice(food))\n",
    "salt = ''.join(sa)   \n",
    "print(salt)\n",
    "print(\"---------------\")\n",
    "for k in range(1):\n",
    "    sa2.append(random.choice(food2))\n",
    "salt2 = ''.join(sa2)    \n",
    "print(salt2)    "
   ]
  },
  {
   "cell_type": "code",
   "execution_count": null,
   "id": "225f24ef",
   "metadata": {},
   "outputs": [],
   "source": []
  }
 ],
 "metadata": {
  "kernelspec": {
   "display_name": "Python 3",
   "language": "python",
   "name": "python3"
  },
  "language_info": {
   "codemirror_mode": {
    "name": "ipython",
    "version": 3
   },
   "file_extension": ".py",
   "mimetype": "text/x-python",
   "name": "python",
   "nbconvert_exporter": "python",
   "pygments_lexer": "ipython3",
   "version": "3.8.8"
  }
 },
 "nbformat": 4,
 "nbformat_minor": 5
}
