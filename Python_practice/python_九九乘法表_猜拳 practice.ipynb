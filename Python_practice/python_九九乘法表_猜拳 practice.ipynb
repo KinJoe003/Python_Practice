{
 "cells": [
  {
   "cell_type": "code",
   "execution_count": 71,
   "id": "challenging-conservative",
   "metadata": {},
   "outputs": [
    {
     "name": "stdout",
     "output_type": "stream",
     "text": [
      "1x1=1\t2x1=2\t3x1=3\t4x1=4\t5x1=5\t6x1=6\t7x1=7\t8x1=8\t9x1=9\t\n",
      "1x2=2\t2x2=4\t3x2=6\t4x2=8\t5x2=10\t6x2=12\t7x2=14\t8x2=16\t9x2=18\t\n",
      "1x3=3\t2x3=6\t3x3=9\t4x3=12\t5x3=15\t6x3=18\t7x3=21\t8x3=24\t9x3=27\t\n",
      "\n",
      "1x4=4\t2x4=8\t3x4=12\t4x4=16\t5x4=20\t6x4=24\t7x4=28\t8x4=32\t9x4=36\t\n",
      "1x5=5\t2x5=10\t3x5=15\t4x5=20\t5x5=25\t6x5=30\t7x5=35\t8x5=40\t9x5=45\t\n",
      "1x6=6\t2x6=12\t3x6=18\t4x6=24\t5x6=30\t6x6=36\t7x6=42\t8x6=48\t9x6=54\t\n",
      "\n",
      "1x7=7\t2x7=14\t3x7=21\t4x7=28\t5x7=35\t6x7=42\t7x7=49\t8x7=56\t9x7=63\t\n",
      "1x8=8\t2x8=16\t3x8=24\t4x8=32\t5x8=40\t6x8=48\t7x8=56\t8x8=64\t9x8=72\t\n",
      "1x9=9\t2x9=18\t3x9=27\t4x9=36\t5x9=45\t6x9=54\t7x9=63\t8x9=72\t9x9=81\t\n",
      "\n"
     ]
    }
   ],
   "source": [
    "for k in range(0, 3):\n",
    "    for i in range(3 * k + 1, 3 * k + 4):\n",
    "        for j in range(1, 10):        \n",
    "            print(\"{}x{}={}\\t\".format(j, i, i*j ),end =\"\")\n",
    "        \n",
    "        print()\n",
    "    print()"
   ]
  },
  {
   "cell_type": "code",
   "execution_count": 72,
   "id": "quiet-eligibility",
   "metadata": {
    "scrolled": false
   },
   "outputs": [
    {
     "name": "stdout",
     "output_type": "stream",
     "text": [
      "1 * 1 = 01  2 * 1 = 02  3 * 1 = 03  \n",
      "1 * 2 = 02  2 * 2 = 04  3 * 2 = 06  \n",
      "1 * 3 = 03  2 * 3 = 06  3 * 3 = 09  \n",
      "1 * 4 = 04  2 * 4 = 08  3 * 4 = 12  \n",
      "1 * 5 = 05  2 * 5 = 10  3 * 5 = 15  \n",
      "1 * 6 = 06  2 * 6 = 12  3 * 6 = 18  \n",
      "1 * 7 = 07  2 * 7 = 14  3 * 7 = 21  \n",
      "1 * 8 = 08  2 * 8 = 16  3 * 8 = 24  \n",
      "1 * 9 = 09  2 * 9 = 18  3 * 9 = 27  \n",
      "\n",
      "4 * 1 = 04  5 * 1 = 05  6 * 1 = 06  \n",
      "4 * 2 = 08  5 * 2 = 10  6 * 2 = 12  \n",
      "4 * 3 = 12  5 * 3 = 15  6 * 3 = 18  \n",
      "4 * 4 = 16  5 * 4 = 20  6 * 4 = 24  \n",
      "4 * 5 = 20  5 * 5 = 25  6 * 5 = 30  \n",
      "4 * 6 = 24  5 * 6 = 30  6 * 6 = 36  \n",
      "4 * 7 = 28  5 * 7 = 35  6 * 7 = 42  \n",
      "4 * 8 = 32  5 * 8 = 40  6 * 8 = 48  \n",
      "4 * 9 = 36  5 * 9 = 45  6 * 9 = 54  \n",
      "\n",
      "7 * 1 = 07  8 * 1 = 08  9 * 1 = 09  \n",
      "7 * 2 = 14  8 * 2 = 16  9 * 2 = 18  \n",
      "7 * 3 = 21  8 * 3 = 24  9 * 3 = 27  \n",
      "7 * 4 = 28  8 * 4 = 32  9 * 4 = 36  \n",
      "7 * 5 = 35  8 * 5 = 40  9 * 5 = 45  \n",
      "7 * 6 = 42  8 * 6 = 48  9 * 6 = 54  \n",
      "7 * 7 = 49  8 * 7 = 56  9 * 7 = 63  \n",
      "7 * 8 = 56  8 * 8 = 64  9 * 8 = 72  \n",
      "7 * 9 = 63  8 * 9 = 72  9 * 9 = 81  \n",
      "\n"
     ]
    }
   ],
   "source": [
    "for k in range(0, 3):\n",
    "    for i in range(1, 10):\n",
    "        for j in range(3 * k + 1, 3 * k + 4):\n",
    "            print(\"%d * %d = %02d \" % (j, i, i*j), end = (\" \"))\n",
    "        print()\n",
    "    print()"
   ]
  },
  {
   "cell_type": "code",
   "execution_count": 73,
   "id": "formed-damage",
   "metadata": {},
   "outputs": [
    {
     "name": "stdout",
     "output_type": "stream",
     "text": [
      "1x1=01\t 2x1=02\t 3x1=03\t 4x1=04\t 5x1=05\t 6x1=06\t 7x1=07\t 8x1=08\t 9x1=09\t \n",
      "1x2=02\t 2x2=04\t 3x2=06\t 4x2=08\t 5x2=10\t 6x2=12\t 7x2=14\t 8x2=16\t 9x2=18\t \n",
      "1x3=03\t 2x3=06\t 3x3=09\t 4x3=12\t 5x3=15\t 6x3=18\t 7x3=21\t 8x3=24\t 9x3=27\t \n",
      "1x4=04\t 2x4=08\t 3x4=12\t 4x4=16\t 5x4=20\t 6x4=24\t 7x4=28\t 8x4=32\t 9x4=36\t \n",
      "1x5=05\t 2x5=10\t 3x5=15\t 4x5=20\t 5x5=25\t 6x5=30\t 7x5=35\t 8x5=40\t 9x5=45\t \n",
      "1x6=06\t 2x6=12\t 3x6=18\t 4x6=24\t 5x6=30\t 6x6=36\t 7x6=42\t 8x6=48\t 9x6=54\t \n",
      "1x7=07\t 2x7=14\t 3x7=21\t 4x7=28\t 5x7=35\t 6x7=42\t 7x7=49\t 8x7=56\t 9x7=63\t \n",
      "1x8=08\t 2x8=16\t 3x8=24\t 4x8=32\t 5x8=40\t 6x8=48\t 7x8=56\t 8x8=64\t 9x8=72\t \n",
      "1x9=09\t 2x9=18\t 3x9=27\t 4x9=36\t 5x9=45\t 6x9=54\t 7x9=63\t 8x9=72\t 9x9=81\t \n"
     ]
    }
   ],
   "source": [
    "for i in range(1, 10):\n",
    "    for j in range(1, 10):\n",
    "        print(\"%dx%d=%02d\\t\" % (j, i, i*j), end = (\" \"))\n",
    "    print()"
   ]
  },
  {
   "cell_type": "code",
   "execution_count": 17,
   "id": "optical-sperm",
   "metadata": {},
   "outputs": [
    {
     "name": "stdout",
     "output_type": "stream",
     "text": [
      "1x1=1\t2x1=2\t3x1=3\t4x1=4\t5x1=5\t6x1=6\t7x1=7\t8x1=8\t9x1=9\t\n",
      "1x2=2\t2x2=4\t3x2=6\t4x2=8\t5x2=10\t6x2=12\t7x2=14\t8x2=16\t9x2=18\t\n",
      "1x3=3\t2x3=6\t3x3=9\t4x3=12\t5x3=15\t6x3=18\t7x3=21\t8x3=24\t9x3=27\t\n",
      "1x4=4\t2x4=8\t3x4=12\t4x4=16\t5x4=20\t6x4=24\t7x4=28\t8x4=32\t9x4=36\t\n",
      "1x5=5\t2x5=10\t3x5=15\t4x5=20\t5x5=25\t6x5=30\t7x5=35\t8x5=40\t9x5=45\t\n",
      "1x6=6\t2x6=12\t3x6=18\t4x6=24\t5x6=30\t6x6=36\t7x6=42\t8x6=48\t9x6=54\t\n",
      "1x7=7\t2x7=14\t3x7=21\t4x7=28\t5x7=35\t6x7=42\t7x7=49\t8x7=56\t9x7=63\t\n",
      "1x8=8\t2x8=16\t3x8=24\t4x8=32\t5x8=40\t6x8=48\t7x8=56\t8x8=64\t9x8=72\t\n",
      "1x9=9\t2x9=18\t3x9=27\t4x9=36\t5x9=45\t6x9=54\t7x9=63\t8x9=72\t9x9=81\t\n"
     ]
    }
   ],
   "source": [
    "for i in range(1, 10):\n",
    "    for j in range(1, 10):        \n",
    "        print(\"{}x{}={}\\t\".format(j, i, i*j ),end =\"\")\n",
    "    print()"
   ]
  },
  {
   "cell_type": "code",
   "execution_count": 27,
   "id": "compact-atlas",
   "metadata": {},
   "outputs": [
    {
     "name": "stdout",
     "output_type": "stream",
     "text": [
      "1x1=1\t1x2=2\t1x3=3\t1x4=4\t1x5=5\t1x6=6\t1x7=7\t1x8=8\t1x9=9\t\n",
      "2x1=2\t2x2=4\t2x3=6\t2x4=8\t2x5=10\t2x6=12\t2x7=14\t2x8=16\t2x9=18\t\n",
      "3x1=3\t3x2=6\t3x3=9\t3x4=12\t3x5=15\t3x6=18\t3x7=21\t3x8=24\t3x9=27\t\n",
      "4x1=4\t4x2=8\t4x3=12\t4x4=16\t4x5=20\t4x6=24\t4x7=28\t4x8=32\t4x9=36\t\n",
      "5x1=5\t5x2=10\t5x3=15\t5x4=20\t5x5=25\t5x6=30\t5x7=35\t5x8=40\t5x9=45\t\n",
      "6x1=6\t6x2=12\t6x3=18\t6x4=24\t6x5=30\t6x6=36\t6x7=42\t6x8=48\t6x9=54\t\n",
      "7x1=7\t7x2=14\t7x3=21\t7x4=28\t7x5=35\t7x6=42\t7x7=49\t7x8=56\t7x9=63\t\n",
      "8x1=8\t8x2=16\t8x3=24\t8x4=32\t8x5=40\t8x6=48\t8x7=56\t8x8=64\t8x9=72\t\n",
      "9x1=9\t9x2=18\t9x3=27\t9x4=36\t9x5=45\t9x6=54\t9x7=63\t9x8=72\t9x9=81\t\n"
     ]
    }
   ],
   "source": [
    "for i in range(1, 10):\n",
    "    for j in range(1, 10):        \n",
    "        print(\"{}x{}={}\\t\".format(i, j, i*j ),end =\"\")\n",
    "    print()"
   ]
  },
  {
   "cell_type": "code",
   "execution_count": 70,
   "id": "younger-agency",
   "metadata": {},
   "outputs": [
    {
     "name": "stdout",
     "output_type": "stream",
     "text": [
      "1x1= 1\t2x1= 2\t3x1= 3\t4x1= 4\t5x1= 5\t6x1= 6\t7x1= 7\t8x1= 8\t9x1= 9\t\n",
      "1x2= 2\t2x2= 4\t3x2= 6\t4x2= 8\t5x2= 10\t6x2= 12\t7x2= 14\t8x2= 16\t9x2= 18\t\n",
      "1x3= 3\t2x3= 6\t3x3= 9\t4x3= 12\t5x3= 15\t6x3= 18\t7x3= 21\t8x3= 24\t9x3= 27\t\n",
      "1x4= 4\t2x4= 8\t3x4= 12\t4x4= 16\t5x4= 20\t6x4= 24\t7x4= 28\t8x4= 32\t9x4= 36\t\n",
      "1x5= 5\t2x5= 10\t3x5= 15\t4x5= 20\t5x5= 25\t6x5= 30\t7x5= 35\t8x5= 40\t9x5= 45\t\n",
      "1x6= 6\t2x6= 12\t3x6= 18\t4x6= 24\t5x6= 30\t6x6= 36\t7x6= 42\t8x6= 48\t9x6= 54\t\n",
      "1x7= 7\t2x7= 14\t3x7= 21\t4x7= 28\t5x7= 35\t6x7= 42\t7x7= 49\t8x7= 56\t9x7= 63\t\n",
      "1x8= 8\t2x8= 16\t3x8= 24\t4x8= 32\t5x8= 40\t6x8= 48\t7x8= 56\t8x8= 64\t9x8= 72\t\n",
      "1x9= 9\t2x9= 18\t3x9= 27\t4x9= 36\t5x9= 45\t6x9= 54\t7x9= 63\t8x9= 72\t9x9= 81\t\n"
     ]
    }
   ],
   "source": [
    "for i in range(1, 10):\n",
    "    for j in range(1, 10):        \n",
    "        print(\"{}x{}={: 02d}\\t\".format(j, i, i*j ),end =\"\")\n",
    "    print()"
   ]
  },
  {
   "cell_type": "code",
   "execution_count": null,
   "id": "distinct-snowboard",
   "metadata": {},
   "outputs": [],
   "source": []
  },
  {
   "cell_type": "code",
   "execution_count": null,
   "id": "confident-strap",
   "metadata": {},
   "outputs": [],
   "source": []
  },
  {
   "cell_type": "code",
   "execution_count": 14,
   "id": "built-novelty",
   "metadata": {},
   "outputs": [
    {
     "name": "stdout",
     "output_type": "stream",
     "text": [
      "請輸入：剪刀（0）、石頭（1）、布（2）0\n",
      "你的輸入為：剪刀（0）\n",
      "隨機生成數字為：2\n",
      "恭喜你贏啦！\n"
     ]
    }
   ],
   "source": [
    "user1 = int(input(\"請輸入：剪刀（0）、石頭（1）、布（2）\"))\n",
    "import random\n",
    "computer = random.randint(0,2)\n",
    "if user1 == computer:\n",
    "    if user1==0:\n",
    "        print(\"你的輸入為：剪刀（0）\");\n",
    "        print(\"隨機生成數字為：0\");\n",
    "    elif user1==1:\n",
    "        print(\"你的輸入為：石頭（1）\");\n",
    "        print(\"隨機生成數字為：1\");\n",
    "    else:\n",
    "        print(\"你的輸入為：布（2）\");\n",
    "        print(\"隨機生成數字為：2\");\n",
    "    print(\"平局！\");\n",
    "elif user1 == 0 and computer == 1:\n",
    "    print(\"你的輸入為：剪刀（0）\");\n",
    "    print(\"隨機生成數字為：1\");\n",
    "    print((\"哈哈，你輸了\"));\n",
    "elif user1 == 0 and computer == 2:\n",
    "    print(\"你的輸入為：剪刀（0）\");\n",
    "    print(\"隨機生成數字為：2\");\n",
    "    print((\"恭喜你贏啦！\"));\n",
    "elif user1 == 1 and computer == 0:\n",
    "    print(\"你的輸入為：石頭（1）\");\n",
    "    print(\"隨機生成數字為：0\");\n",
    "    print((\"恭喜你贏啦！\"));\n",
    "elif user1 == 1 and computer == 2:\n",
    "    print(\"你的輸入為：石頭（1）\");\n",
    "    print(\"隨機生成數字為：2\");\n",
    "    print((\"哈哈，你輸了\"));\n",
    "elif user1 == 2 and computer == 0:\n",
    "    print(\"你的輸入為：布（2）\");\n",
    "    print(\"隨機生成數字為：0\");\n",
    "    print((\"哈哈，你輸了\"));\n",
    "elif user1 == 2 and computer == 1:\n",
    "    print(\"你的輸入為：布（2）\");\n",
    "    print(\"隨機生成數字為：1\");\n",
    "    print((\"恭喜你贏啦\"));"
   ]
  },
  {
   "cell_type": "code",
   "execution_count": null,
   "id": "chubby-spank",
   "metadata": {},
   "outputs": [],
   "source": []
  },
  {
   "cell_type": "code",
   "execution_count": null,
   "id": "judicial-edward",
   "metadata": {},
   "outputs": [],
   "source": []
  },
  {
   "cell_type": "code",
   "execution_count": 1,
   "id": "seasonal-building",
   "metadata": {},
   "outputs": [
    {
     "name": "stdout",
     "output_type": "stream",
     "text": [
      "請出拳：（石頭、剪刀、布）布\n",
      "————戰鬥過程————\n",
      "電腦出了：剪刀\n",
      "你出了：布\n",
      "—————结果—————\n",
      "你輸了！\n",
      "要繼續遊戲嗎，请輸入n退出，輸入其他繼續：n\n",
      "\n",
      "【结束遊戲】\n"
     ]
    }
   ],
   "source": [
    "import random\n",
    "# 出拳\n",
    "while True:\n",
    "    punches = ['石頭','剪刀','布']\n",
    "    computer_choice = random.choice(punches)\n",
    "    user_choice = ''\n",
    "    user_choice = input('請出拳：（石頭、剪刀、布）')  # 請用户輸入選擇\n",
    "    while user_choice not in punches:  # 當用户輸入錯誤，提示錯誤，重新輸入\n",
    "        print('輸入有誤，請重新出拳')\n",
    "        user_choice = input()\n",
    " \n",
    "    # 亮拳\n",
    "    print('————戰鬥過程————') \n",
    "    print('電腦出了：%s' % computer_choice) \n",
    "    print('你出了：%s' % user_choice)\n",
    "    # 胜负\n",
    "    print('—————结果—————') \n",
    "    if user_choice == computer_choice:  # 使用if進行條件判断\n",
    "        print('平局！') \n",
    "    elif (user_choice == '石頭' and computer_choice == '剪刀') or (user_choice == '剪刀' and computer_choice == '布')or (user_choice == '布' and computer_choice == '石头'):\n",
    "        print('你赢了！') \n",
    "    else:\n",
    "        print('你輸了！')\n",
    "    a1 = input('要繼續遊戲嗎，请輸入n退出，輸入其他繼續：') \n",
    "    if a1 == 'n':\n",
    "        print('\\n【结束遊戲】') \n",
    "        break "
   ]
  },
  {
   "cell_type": "code",
   "execution_count": 62,
   "id": "measured-ideal",
   "metadata": {},
   "outputs": [
    {
     "name": "stdout",
     "output_type": "stream",
     "text": [
      "請出拳：（石頭、剪刀、布）布\n",
      "————P.K.過程————\n",
      "電腦出了：剪刀\n",
      "你出了：布\n",
      "—————结果—————\n",
      "你輸了！\n",
      "要繼續遊戲嗎?\n",
      "_輸入E退出，輸入N繼續：E\n",
      "\n",
      "【遊戲结束】\n"
     ]
    }
   ],
   "source": [
    "import random\n",
    "# 出拳\n",
    "while True:\n",
    "    punches = ['石頭','剪刀','布']\n",
    "    computer_choice = random.choice(punches)\n",
    "    user_choice = ''\n",
    "    user_choice = input('請出拳：（石頭、剪刀、布）')\n",
    "    while user_choice not in punches:  \n",
    "        print('輸入有誤，請重新出拳')\n",
    "        user_choice = input()\n",
    " \n",
    "    print('————P.K.過程————') \n",
    "    print('電腦出了：%s' % computer_choice) \n",
    "    print('你出了：%s' % user_choice)\n",
    "    print('—————结果—————') \n",
    "    if user_choice == computer_choice:  \n",
    "        print('平局！') \n",
    "    elif (user_choice == '石頭' and computer_choice == '剪刀') or (user_choice == '剪刀' and computer_choice == '布') or (user_choice == '布' and computer_choice == '石頭'):\n",
    "        print('你赢了！') \n",
    "    else:\n",
    "        print('你輸了！')\n",
    "    a1 = input('要繼續遊戲嗎?\\n_輸入E退出，輸入N繼續：') \n",
    "    if a1 == 'E':\n",
    "        print('\\n【遊戲结束】') \n",
    "        break "
   ]
  },
  {
   "cell_type": "code",
   "execution_count": null,
   "id": "proof-russia",
   "metadata": {},
   "outputs": [],
   "source": []
  },
  {
   "cell_type": "code",
   "execution_count": 65,
   "id": "progressive-graham",
   "metadata": {},
   "outputs": [
    {
     "name": "stdout",
     "output_type": "stream",
     "text": [
      "請出拳：（石頭(0)、剪刀(1)、布(2）:0\n",
      "————P.K.過程————\n",
      "電腦出了：1\n",
      "你出了：0\n",
      "—————结果—————\n",
      "你赢了！\n",
      "要繼續遊戲嗎?\n",
      "_輸入e退出，輸入n繼續：n\n",
      "請出拳：（石頭(0)、剪刀(1)、布(2）:2\n",
      "————P.K.過程————\n",
      "電腦出了：1\n",
      "你出了：2\n",
      "—————结果—————\n",
      "你輸了！\n",
      "要繼續遊戲嗎?\n",
      "_輸入e退出，輸入n繼續：n\n",
      "請出拳：（石頭(0)、剪刀(1)、布(2）:3\n",
      "輸入有誤，請重新出拳\n",
      "1\n",
      "————P.K.過程————\n",
      "電腦出了：2\n",
      "你出了：1\n",
      "—————结果—————\n",
      "你赢了！\n",
      "要繼續遊戲嗎?\n",
      "_輸入e退出，輸入n繼續：e\n",
      "\n",
      "【遊戲结束】\n"
     ]
    }
   ],
   "source": [
    "import random\n",
    "# 出拳\n",
    "while True:\n",
    "    punches = ['0','1','2']\n",
    "    computer_choice = random.choice(punches)\n",
    "    user_choice = ''\n",
    "    user_choice = input('請出拳：（石頭(0)、剪刀(1)、布(2）:')\n",
    "    while user_choice not in punches:  \n",
    "        print('輸入有誤，請重新出拳')\n",
    "        user_choice = input()\n",
    " \n",
    "    print('————P.K.過程————') \n",
    "    print('電腦出了：%s' % computer_choice) \n",
    "    print('你出了：%s' % user_choice)\n",
    "    print('—————结果—————') \n",
    "    if user_choice == computer_choice:  \n",
    "        print('平局！') \n",
    "    elif (user_choice == '0' and computer_choice == '1') or (user_choice == '1' and computer_choice == '2') or (user_choice == '2' and computer_choice == '0'):\n",
    "        print('你赢了！') \n",
    "    else:\n",
    "        print('你輸了！')\n",
    "    a1 = input('要繼續遊戲嗎?\\n_輸入e退出，輸入n繼續：') \n",
    "    if a1 == 'e':\n",
    "        print('\\n【遊戲结束】') \n",
    "        break "
   ]
  },
  {
   "cell_type": "code",
   "execution_count": null,
   "id": "handmade-broadway",
   "metadata": {},
   "outputs": [],
   "source": []
  }
 ],
 "metadata": {
  "kernelspec": {
   "display_name": "Python 3",
   "language": "python",
   "name": "python3"
  },
  "language_info": {
   "codemirror_mode": {
    "name": "ipython",
    "version": 3
   },
   "file_extension": ".py",
   "mimetype": "text/x-python",
   "name": "python",
   "nbconvert_exporter": "python",
   "pygments_lexer": "ipython3",
   "version": "3.8.8"
  }
 },
 "nbformat": 4,
 "nbformat_minor": 5
}
