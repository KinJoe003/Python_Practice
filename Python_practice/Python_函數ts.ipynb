{
 "cells": [
  {
   "cell_type": "markdown",
   "metadata": {
    "ExecuteTime": {
     "end_time": "2021-03-27T03:51:33.786419Z",
     "start_time": "2021-03-27T03:51:33.783774Z"
    }
   },
   "source": [
    "# Function (函數)"
   ]
  },
  {
   "cell_type": "code",
   "execution_count": null,
   "metadata": {
    "ExecuteTime": {
     "end_time": "2021-04-02T10:55:01.487480Z",
     "start_time": "2021-04-02T10:55:01.484536Z"
    }
   },
   "outputs": [],
   "source": [
    "def no_return():\n",
    "    \"do nothing\"\n",
    "\n",
    "def return_nothing():\n",
    "    \"do nothing\"\n",
    "    return\n",
    "\n",
    "def return_null():\n",
    "    \"do nothing\"\n",
    "    return None"
   ]
  },
  {
   "cell_type": "code",
   "execution_count": null,
   "metadata": {
    "ExecuteTime": {
     "end_time": "2021-04-02T10:55:13.126881Z",
     "start_time": "2021-04-02T10:55:13.123690Z"
    }
   },
   "outputs": [],
   "source": [
    "print(no_return())\n",
    "print(return_nothing())\n",
    "print(return_null())"
   ]
  },
  {
   "cell_type": "code",
   "execution_count": null,
   "metadata": {
    "ExecuteTime": {
     "end_time": "2021-03-27T14:44:33.123534Z",
     "start_time": "2021-03-27T14:44:33.121149Z"
    }
   },
   "outputs": [],
   "source": [
    "def add(x, y):\n",
    "    \"\"\"\n",
    "    return x+y\n",
    "    x: int\n",
    "    y: int\n",
    "    return: int\n",
    "    \"\"\"\n",
    "    return x + y"
   ]
  },
  {
   "cell_type": "code",
   "execution_count": null,
   "metadata": {
    "ExecuteTime": {
     "end_time": "2021-03-27T14:44:33.510366Z",
     "start_time": "2021-03-27T14:44:33.506855Z"
    }
   },
   "outputs": [],
   "source": [
    "add"
   ]
  },
  {
   "cell_type": "code",
   "execution_count": null,
   "metadata": {
    "ExecuteTime": {
     "end_time": "2021-03-27T14:44:37.806101Z",
     "start_time": "2021-03-27T14:44:37.802091Z"
    }
   },
   "outputs": [],
   "source": [
    "add(1, 2)"
   ]
  },
  {
   "cell_type": "code",
   "execution_count": null,
   "metadata": {
    "ExecuteTime": {
     "end_time": "2021-03-28T08:51:57.084506Z",
     "start_time": "2021-03-28T08:51:57.080453Z"
    }
   },
   "outputs": [],
   "source": [
    "add(x=1, y=2)"
   ]
  },
  {
   "cell_type": "markdown",
   "metadata": {},
   "source": [
    "## Default Value"
   ]
  },
  {
   "cell_type": "code",
   "execution_count": null,
   "metadata": {
    "ExecuteTime": {
     "end_time": "2021-03-27T16:04:25.849014Z",
     "start_time": "2021-03-27T16:04:25.846591Z"
    }
   },
   "outputs": [],
   "source": [
    "def add(x=1, y=1):\n",
    "    \"\"\"\n",
    "    return x+y\n",
    "    x: int\n",
    "    y: int\n",
    "    return: int\n",
    "    \"\"\"\n",
    "    return x + y"
   ]
  },
  {
   "cell_type": "code",
   "execution_count": null,
   "metadata": {
    "ExecuteTime": {
     "end_time": "2021-03-27T16:04:28.948507Z",
     "start_time": "2021-03-27T16:04:28.945197Z"
    }
   },
   "outputs": [],
   "source": [
    "add()"
   ]
  },
  {
   "cell_type": "markdown",
   "metadata": {},
   "source": [
    "## explode list or dictionary"
   ]
  },
  {
   "cell_type": "code",
   "execution_count": null,
   "metadata": {},
   "outputs": [],
   "source": [
    "def add(x, y):\n",
    "    \"\"\"\n",
    "    return x+y\n",
    "    x: int\n",
    "    y: int\n",
    "    return: int\n",
    "    \"\"\"\n",
    "    return x + y"
   ]
  },
  {
   "cell_type": "code",
   "execution_count": null,
   "metadata": {
    "ExecuteTime": {
     "end_time": "2021-03-27T16:09:38.561104Z",
     "start_time": "2021-03-27T16:09:38.557623Z"
    }
   },
   "outputs": [],
   "source": [
    "add(*[1, 2])"
   ]
  },
  {
   "cell_type": "code",
   "execution_count": null,
   "metadata": {
    "ExecuteTime": {
     "end_time": "2021-03-27T16:10:03.344963Z",
     "start_time": "2021-03-27T16:10:03.341231Z"
    }
   },
   "outputs": [],
   "source": [
    "add(**{\"x\": 1, \"y\": 2})"
   ]
  },
  {
   "cell_type": "markdown",
   "metadata": {},
   "source": [
    "## kwargs, args"
   ]
  },
  {
   "cell_type": "code",
   "execution_count": null,
   "metadata": {
    "ExecuteTime": {
     "end_time": "2021-03-27T15:44:03.262774Z",
     "start_time": "2021-03-27T15:44:03.259027Z"
    }
   },
   "outputs": [],
   "source": [
    "def kw_test(**kwargs):\n",
    "    return kwargs  #-->dict\n",
    "    \n",
    "\n",
    "def args_test(*args):\n",
    "    return args  #-->tuple\n",
    "\n",
    "\n",
    "def test(x, y, *args, **kwargs):\n",
    "    print(x, y)\n",
    "    print(\"args=\", args)\n",
    "    print(\"kwargs=\", kwargs)\n",
    "    return x + y"
   ]
  },
  {
   "cell_type": "code",
   "execution_count": null,
   "metadata": {
    "ExecuteTime": {
     "end_time": "2021-03-27T15:44:03.575505Z",
     "start_time": "2021-03-27T15:44:03.571917Z"
    }
   },
   "outputs": [],
   "source": [
    "kw_test(x=2, y=3)"
   ]
  },
  {
   "cell_type": "code",
   "execution_count": null,
   "metadata": {
    "ExecuteTime": {
     "end_time": "2021-03-27T15:44:03.957007Z",
     "start_time": "2021-03-27T15:44:03.953204Z"
    }
   },
   "outputs": [],
   "source": [
    "args_test(1, 2, 3)"
   ]
  },
  {
   "cell_type": "code",
   "execution_count": null,
   "metadata": {
    "ExecuteTime": {
     "end_time": "2021-03-27T15:44:04.501760Z",
     "start_time": "2021-03-27T15:44:04.497339Z"
    }
   },
   "outputs": [],
   "source": [
    "test(2, 3, 10, 11, z=4, m=6)"
   ]
  },
  {
   "cell_type": "code",
   "execution_count": null,
   "metadata": {
    "ExecuteTime": {
     "end_time": "2021-03-27T15:44:13.707535Z",
     "start_time": "2021-03-27T15:44:13.702853Z"
    }
   },
   "outputs": [],
   "source": [
    "test(a=2, b=3, 10, 11, c=4, v=6)"
   ]
  },
  {
   "cell_type": "markdown",
   "metadata": {},
   "source": [
    "## local variable & global variable"
   ]
  },
  {
   "cell_type": "code",
   "execution_count": null,
   "metadata": {
    "ExecuteTime": {
     "end_time": "2021-03-28T04:22:42.648859Z",
     "start_time": "2021-03-28T04:22:42.645771Z"
    }
   },
   "outputs": [],
   "source": [
    "PI = 3.1415926 # global variable\n",
    "def times_pi(x, pi=None):\n",
    "    # 參數亦是 local variable\n",
    "    y = 10 # function 內宣告的變數也是 local variable\n",
    "    if pi is None:\n",
    "        return x*PI\n",
    "    else:\n",
    "        return x*pi"
   ]
  },
  {
   "cell_type": "code",
   "execution_count": null,
   "metadata": {
    "ExecuteTime": {
     "end_time": "2021-03-28T04:22:42.898609Z",
     "start_time": "2021-03-28T04:22:42.895691Z"
    }
   },
   "outputs": [],
   "source": [
    "times_pi(1, 3)"
   ]
  },
  {
   "cell_type": "code",
   "execution_count": null,
   "metadata": {
    "ExecuteTime": {
     "end_time": "2021-03-28T04:22:43.139125Z",
     "start_time": "2021-03-28T04:22:43.136137Z"
    }
   },
   "outputs": [],
   "source": [
    "times_pi(1)"
   ]
  },
  {
   "cell_type": "markdown",
   "metadata": {},
   "source": [
    "### 變數的取用會從區域變數開始找起，再層層向外"
   ]
  },
  {
   "cell_type": "code",
   "execution_count": null,
   "metadata": {
    "ExecuteTime": {
     "end_time": "2021-03-28T07:27:24.246097Z",
     "start_time": "2021-03-28T07:27:24.243961Z"
    }
   },
   "outputs": [],
   "source": [
    "PI = 3.1415926\n",
    "def times_pi_2(x):\n",
    "    PI = 3\n",
    "    return x*PI"
   ]
  },
  {
   "cell_type": "code",
   "execution_count": null,
   "metadata": {
    "ExecuteTime": {
     "end_time": "2021-03-28T07:27:24.511338Z",
     "start_time": "2021-03-28T07:27:24.508219Z"
    }
   },
   "outputs": [],
   "source": [
    "times_pi_2(1)"
   ]
  },
  {
   "cell_type": "code",
   "execution_count": null,
   "metadata": {
    "ExecuteTime": {
     "end_time": "2021-03-28T07:27:24.932145Z",
     "start_time": "2021-03-28T07:27:24.928944Z"
    }
   },
   "outputs": [],
   "source": [
    "PI"
   ]
  },
  {
   "cell_type": "markdown",
   "metadata": {
    "ExecuteTime": {
     "end_time": "2021-03-28T07:23:48.578116Z",
     "start_time": "2021-03-28T07:23:48.575927Z"
    }
   },
   "source": [
    "### global"
   ]
  },
  {
   "cell_type": "code",
   "execution_count": null,
   "metadata": {
    "ExecuteTime": {
     "end_time": "2021-03-28T07:29:30.100261Z",
     "start_time": "2021-03-28T07:29:30.097556Z"
    }
   },
   "outputs": [],
   "source": [
    "PI = 3.1415926\n",
    "def times_pi_3(x):\n",
    "    global PI\n",
    "    PI = 3\n",
    "    return x*PI"
   ]
  },
  {
   "cell_type": "code",
   "execution_count": null,
   "metadata": {
    "ExecuteTime": {
     "end_time": "2021-03-28T07:29:30.627569Z",
     "start_time": "2021-03-28T07:29:30.623708Z"
    }
   },
   "outputs": [],
   "source": [
    "times_pi_3(1)"
   ]
  },
  {
   "cell_type": "code",
   "execution_count": null,
   "metadata": {
    "ExecuteTime": {
     "end_time": "2021-03-28T07:29:31.130726Z",
     "start_time": "2021-03-28T07:29:31.127407Z"
    }
   },
   "outputs": [],
   "source": [
    "PI"
   ]
  },
  {
   "cell_type": "markdown",
   "metadata": {},
   "source": [
    "### nonlocal"
   ]
  },
  {
   "cell_type": "code",
   "execution_count": null,
   "metadata": {
    "ExecuteTime": {
     "end_time": "2021-03-28T07:32:03.996944Z",
     "start_time": "2021-03-28T07:32:03.993928Z"
    }
   },
   "outputs": [],
   "source": [
    "PI = 3.1415926\n",
    "def outer_function(y):\n",
    "    PI = 3.14\n",
    "    print(\"outer_function's PI = \", PI)\n",
    "    def times_pi_4(x):\n",
    "        nonlocal PI\n",
    "        PI = 3\n",
    "        return x*PI\n",
    "    \n",
    "    answer = times_pi_4(y)\n",
    "    print(\"outer_function's PI = \", PI)\n",
    "    return answer"
   ]
  },
  {
   "cell_type": "code",
   "execution_count": null,
   "metadata": {
    "ExecuteTime": {
     "end_time": "2021-03-28T07:32:04.486244Z",
     "start_time": "2021-03-28T07:32:04.481693Z"
    }
   },
   "outputs": [],
   "source": [
    "outer_function(1)"
   ]
  },
  {
   "cell_type": "code",
   "execution_count": null,
   "metadata": {
    "ExecuteTime": {
     "end_time": "2021-03-28T07:32:12.845026Z",
     "start_time": "2021-03-28T07:32:12.841815Z"
    }
   },
   "outputs": [],
   "source": [
    "PI"
   ]
  },
  {
   "cell_type": "markdown",
   "metadata": {},
   "source": [
    "### 傳值、傳址"
   ]
  },
  {
   "cell_type": "code",
   "execution_count": null,
   "metadata": {
    "ExecuteTime": {
     "end_time": "2021-03-28T08:38:55.622346Z",
     "start_time": "2021-03-28T08:38:55.619796Z"
    }
   },
   "outputs": [],
   "source": [
    "def integer_add_one(x):\n",
    "    x += 1\n",
    "    return x"
   ]
  },
  {
   "cell_type": "code",
   "execution_count": null,
   "metadata": {
    "ExecuteTime": {
     "end_time": "2021-03-28T08:38:55.872456Z",
     "start_time": "2021-03-28T08:38:55.869147Z"
    }
   },
   "outputs": [],
   "source": [
    "value = 5\n",
    "print(value)\n",
    "\n",
    "integer_add_one(value)\n",
    "print(value)"
   ]
  },
  {
   "cell_type": "code",
   "execution_count": null,
   "metadata": {
    "ExecuteTime": {
     "end_time": "2021-03-28T08:39:10.782063Z",
     "start_time": "2021-03-28T08:39:10.779423Z"
    }
   },
   "outputs": [],
   "source": [
    "def array_add_one(x):\n",
    "    x.append(1)\n",
    "    return x"
   ]
  },
  {
   "cell_type": "code",
   "execution_count": null,
   "metadata": {
    "ExecuteTime": {
     "end_time": "2021-03-28T08:39:32.571848Z",
     "start_time": "2021-03-28T08:39:32.568472Z"
    }
   },
   "outputs": [],
   "source": [
    "value = [5]\n",
    "print(value)\n",
    "\n",
    "array_add_one(value)\n",
    "print(value)"
   ]
  },
  {
   "cell_type": "markdown",
   "metadata": {},
   "source": [
    "# 練習"
   ]
  },
  {
   "cell_type": "markdown",
   "metadata": {},
   "source": [
    "```\n",
    "中文表示固定為：一, 二, 三, 四, 五, 六, 七, 八, 九, 零, 十, 百, 千, 萬, 億\n",
    "```"
   ]
  },
  {
   "cell_type": "code",
   "execution_count": 6,
   "metadata": {},
   "outputs": [],
   "source": [
    "def grouping_list(group, data):\n",
    "    \"\"\"\n",
    "        將輸入的序列化物件分組\n",
    "    :param group: int, 一組要有幾個元素\n",
    "    :param data: iterable object, 欲分組之物件\n",
    "    :return: list\n",
    "    \"\"\"\n",
    "a = [1, 2, 3, 4, 5, 6, 7, 8, 9]\n",
    "grouping_list(3, a)    \n",
    "# output : [[1, 2, 3], [4, 5, 6], [7, 8, 9]]"
   ]
  },
  {
   "cell_type": "code",
   "execution_count": 68,
   "metadata": {},
   "outputs": [
    {
     "name": "stdout",
     "output_type": "stream",
     "text": [
      "[[1, 2, 3], [4, 5, 6], [7, 8, 9]]\n"
     ]
    }
   ],
   "source": [
    "def grouping_list(group, data):\n",
    "    ouput = []\n",
    "    for i in range(0, len(a),group):\n",
    "        output.append(a[i:i+group])\n",
    "        return output\n",
    "a = [1, 2, 3, 4, 5, 6, 7, 8, 9]    \n",
    "print(exchange_and_group_data(3, a))"
   ]
  },
  {
   "cell_type": "code",
   "execution_count": 8,
   "metadata": {
    "ExecuteTime": {
     "end_time": "2021-04-21T01:06:30.887237Z",
     "start_time": "2021-04-21T01:06:30.873712Z"
    }
   },
   "outputs": [
    {
     "name": "stdout",
     "output_type": "stream",
     "text": [
      "[[1, 2, 3], [4, 5, 6], [7, 8, 9]]\n"
     ]
    }
   ],
   "source": [
    "a = [1, 2, 3, 4, 5, 6, 7, 8, 9]\n",
    "result = [[],[],[]]\n",
    "for item in a:\n",
    "        if len(result[0]) < 3:\n",
    "                result[0].append(item)\n",
    "        elif len(result[1]) < 3:\n",
    "                result[1].append(item)\n",
    "        else:\n",
    "                result[2].append(item)\n",
    "print (result)"
   ]
  },
  {
   "cell_type": "code",
   "execution_count": null,
   "metadata": {},
   "outputs": [],
   "source": [
    "def number_to_chinese(number):\n",
    "    \"\"\"\n",
    "        將數字轉換成中文表示\n",
    "        若無法轉換，則回傳 None\n",
    "        考慮到「億」即可\n",
    "    :param number: int\n",
    "    :return: str\n",
    "    \"\"\"\n",
    "number = 25\n",
    "number_to_chinese(number)    \n",
    "# output : '二十五'"
   ]
  },
  {
   "cell_type": "code",
   "execution_count": 19,
   "metadata": {
    "ExecuteTime": {
     "end_time": "2021-04-21T01:07:16.549029Z",
     "start_time": "2021-04-21T01:07:14.104989Z"
    }
   },
   "outputs": [
    {
     "name": "stdout",
     "output_type": "stream",
     "text": [
      "250\n",
      "二百五十零\n"
     ]
    }
   ],
   "source": [
    "num=input()\n",
    "num1=\"0123456789\"\n",
    "x = []\n",
    "t = int()\n",
    "nx2 =\"\"\n",
    "\n",
    "\n",
    "num2=['零','一','二','三','四','五','六','七','八','九']\n",
    "for i in num:\n",
    "    for j in num1:\n",
    "        if i==j:\n",
    "            t = t + 1\n",
    "            #print(num2[int(j)],end=\"\")\n",
    "            str = num2[int(j)]\n",
    "            x += str\n",
    "            a1 = t\n",
    "\n",
    "def number_to_chinese(number):\n",
    "    a1 = int()\n",
    "    nx1 = \"\"\n",
    "    for i in range(t,1,-1):\n",
    "        #print(i)\n",
    "        if i == 9:\n",
    "           nx1 = nx1 + x[t-i] + \"億\"\n",
    "\n",
    "        elif i == 8:\n",
    "           nx1 = nx1 + x[t-i] + \"千\"\n",
    "        elif i == 7:\n",
    "           nx1 = nx1 + x[t-i] + \"百\"\n",
    "        elif i == 6:\n",
    "           nx1 = nx1 + x[t-i] + \"十\"\n",
    "        elif i == 5:\n",
    "           nx1 = nx1 + x[t-i] + \"萬\"\n",
    "        elif i == 4:\n",
    "           nx1 = nx1 + x[t-i] + \"千\"\n",
    "        elif i == 3:\n",
    "           nx1 = nx1 + x[t-i] + \"百\"\n",
    "        elif i == 2:\n",
    "           nx1 = nx1 + x[t-i] + \"十\"\n",
    "           print(nx1+x[t-i+1])\n",
    "        elif i == 1:\n",
    "           nx1 = nx1 + x[i-1]\n",
    "\n",
    "\n",
    "\n",
    "\n",
    "\n",
    "number = 25\n",
    "number_to_chinese(number)"
   ]
  },
  {
   "cell_type": "code",
   "execution_count": null,
   "metadata": {},
   "outputs": [],
   "source": []
  },
  {
   "cell_type": "code",
   "execution_count": null,
   "metadata": {},
   "outputs": [],
   "source": [
    "def chinese_to_number(number):\n",
    "    \"\"\"\n",
    "        將數字轉換成中文表示\n",
    "        若無法轉換，則回傳 None\n",
    "        考慮到「億」即可\n",
    "    :param number: str\n",
    "    :return: int\n",
    "    \"\"\"\n",
    "number = '二十五'\n",
    "chinese_to_number(number)    \n",
    "# output : 25"
   ]
  },
  {
   "cell_type": "code",
   "execution_count": 34,
   "metadata": {},
   "outputs": [
    {
     "name": "stdout",
     "output_type": "stream",
     "text": [
      "----------Transform test----------\n",
      "二億五千萬:250000000\n",
      "----------Transform test----------\n",
      "二千五百萬:25000000\n",
      "----------Transform test----------\n",
      "二百五十萬:2500000\n",
      "----------Transform test----------\n",
      "二十五萬:250000\n",
      "----------Transform test----------\n",
      "二萬五千:25000\n",
      "----------Transform test----------\n",
      "二千五百:2500\n",
      "----------Transform test----------\n",
      "二百五十:250\n",
      "----------Transform test----------\n",
      "二十五:25\n"
     ]
    }
   ],
   "source": [
    "import re\n",
    "import string\n",
    "common_used_numerals_tmp ={'零':0, '一':1, '二':2, '三':3, '四':4, '五':5, '六':6, '七':7, '八':8, '九':9, '十':10, '百':100, '千':1000, '萬':10000, '億':100000000}\n",
    "\n",
    "\n",
    "def chstring2int(uchar):\n",
    "    ##1）按億、萬分割字符\n",
    "    sep_char = re.split(r'億|萬',uchar)\n",
    "    total_sum = 0\n",
    "    for i,sc in enumerate(sep_char):\n",
    "        ##print(\"level 1:{}-----{}\".format(i,sc))\n",
    "        ##2）對每一部份進行轉化處理，比如第二部分[ \"三千二百四十二\"]\n",
    "        split_num = sc.replace('千', '1000').replace('百', '100').replace('十', '10')\n",
    "        int_series = re.split(r'(\\d{1,})', split_num)\n",
    "        int_series.append(\"\")\n",
    "        int_series = [\"\".join(i) for i in zip(int_series[0::2],int_series[1::2])]\n",
    "        int_series = ['零' if i == '' else i for i in int_series]\n",
    "        num = 0\n",
    "        ##int_series：[\"三1000\", \"二100\", \"四10\", \"二\"]\n",
    "        ##3）求加總和int_series\n",
    "        for ix, it in enumerate(int_series):\n",
    "            it = re.sub('零', '', it) if it != '零' else it\n",
    "            ##print(\"level 2:{}{}\".format(ix,it))\n",
    "            temp = common_used_numerals_tmp[it[0]]*int(it[1:]) if len(it)>1 else common_used_numerals_tmp[it[0]]\n",
    "            num += temp\n",
    "            ##print(\"transformed part sum %s\"%str(num))\n",
    "        total_sum += num * (10 ** (4*(len(sep_char) - i - 1)))\n",
    "    return total_sum\n",
    "\n",
    "def test(ch):\n",
    "    print(\"----------Transform test----------\")\n",
    "    print(\"{}:{}\".format(ch,chstring2int(ch)))\n",
    "\n",
    "test(\"二億五千萬\")\n",
    "test(\"二千五百萬\")\n",
    "test(\"二百五十萬\")\n",
    "test(\"二十五萬\")\n",
    "test(\"二萬五千\")\n",
    "test(\"二千五百\")\n",
    "test(\"二百五十\")\n",
    "test(\"二十五\")"
   ]
  },
  {
   "cell_type": "code",
   "execution_count": null,
   "metadata": {},
   "outputs": [],
   "source": []
  },
  {
   "cell_type": "code",
   "execution_count": 21,
   "metadata": {},
   "outputs": [
    {
     "ename": "SyntaxError",
     "evalue": "invalid syntax (<ipython-input-21-23fabb942476>, line 1)",
     "output_type": "error",
     "traceback": [
      "\u001b[1;36m  File \u001b[1;32m\"<ipython-input-21-23fabb942476>\"\u001b[1;36m, line \u001b[1;32m1\u001b[0m\n\u001b[1;33m    def exchange_and_group_data(group, data)\u001b[0m\n\u001b[1;37m                                            ^\u001b[0m\n\u001b[1;31mSyntaxError\u001b[0m\u001b[1;31m:\u001b[0m invalid syntax\n"
     ]
    }
   ],
   "source": [
    "def exchange_and_group_data(group, data)\n",
    "    \"\"\"\n",
    "        將輸入的序列化物件分組並轉讓中文跟數字之間做轉換\n",
    "    :param group: int, 一組要有幾個元素\n",
    "    :param data: iterable object, 欲分組之物件\n",
    "    :return: list\n",
    "    \"\"\"\n",
    "    \n",
    "a = [1, 2, 3, '四', '五', '六', 7, 8, 9]\n",
    "grouping_list(3, a)\n",
    "# output : [['一', '二', '三'], [4, 5, 6], ['七', '八', '九']]"
   ]
  },
  {
   "cell_type": "code",
   "execution_count": 18,
   "metadata": {},
   "outputs": [
    {
     "name": "stdout",
     "output_type": "stream",
     "text": [
      "[[1, 2, 3], ['四', '五', '六'], [7, 8, 9]]\n"
     ]
    }
   ],
   "source": [
    "a = [1, 2, 3, '四', '五', '六', 7, 8, 9]\n",
    "result = [[],[],[]]\n",
    "for item in a:\n",
    "        if len(result[0]) < 3:\n",
    "                result[0].append(item)\n",
    "        elif len(result[1]) < 3:\n",
    "                result[1].append(item)\n",
    "        else:\n",
    "                result[2].append(item)\n",
    "print (result)\n"
   ]
  },
  {
   "cell_type": "code",
   "execution_count": null,
   "metadata": {},
   "outputs": [],
   "source": [
    "elif comnum in num_value:\n",
    "            for key in num_key:\n",
    "                if comnum == num_dict[key]:\n",
    "                    c.append(key)\n",
    "    output.append(c)\n",
    "    \n",
    "print(output)"
   ]
  },
  {
   "cell_type": "code",
   "execution_count": 75,
   "metadata": {},
   "outputs": [
    {
     "name": "stdout",
     "output_type": "stream",
     "text": [
      "[1, 2, 3]\n",
      "['四', '五', '六']\n",
      "[7, 8, 9]\n",
      "[1, 2, 3]\n",
      "['四', '五', '六']\n",
      "[7, 8, 9]\n",
      "[[], [4, 5, 6], []]\n"
     ]
    }
   ],
   "source": [
    "def exchange_and_group_data(group, data):\n",
    "    output = []\n",
    "    for i in range(0, len(a), group):\n",
    "        output.append(a[i:i+group])\n",
    "    return output\n",
    "a = [1, 2, 3, '四', '五', '六', 7, 8, 9]\n",
    "\n",
    "LIST = exchange_and_group_data(3,a)\n",
    "\n",
    "for j in range(len(LIST)):\n",
    "    print(LIST[j])    \n",
    "    \n",
    "#設定空值    \n",
    "output = []\n",
    "num_dict = {'零':0, '一':1, '二':2, '三':3, '四':4, '五':5, '六':6, '七':7, '八':8, '九':9, '十':10}\n",
    "num_key = list(num_dict.keys())\n",
    "num_value = list(num_dict.keys())\n",
    "\n",
    "#叫出每一組\n",
    "for i in range(len(LIST)):\n",
    "    c = []\n",
    "    print(LIST[i])\n",
    "    for j in range(len(LIST[i])):\n",
    "        comnum = LIST[i][j]\n",
    "\n",
    "#比對每一個 \n",
    "        if comnum in num_key:\n",
    "            num_dict.get(comnum)\n",
    "            c.append(num_dict.get(comnum))\n",
    "        \n",
    "        \n",
    "        elif comnum in num_value:\n",
    "            for key in num_key:\n",
    "                if comnum == num_dict[key]:\n",
    "                    c.append(key)\n",
    "    output.append(c)\n",
    "    \n",
    "print(output) "
   ]
  },
  {
   "cell_type": "code",
   "execution_count": null,
   "metadata": {},
   "outputs": [],
   "source": []
  }
 ],
 "metadata": {
  "kernelspec": {
   "display_name": "Python 3",
   "language": "python",
   "name": "python3"
  },
  "language_info": {
   "codemirror_mode": {
    "name": "ipython",
    "version": 3
   },
   "file_extension": ".py",
   "mimetype": "text/x-python",
   "name": "python",
   "nbconvert_exporter": "python",
   "pygments_lexer": "ipython3",
   "version": "3.8.8"
  },
  "toc": {
   "base_numbering": 1,
   "nav_menu": {},
   "number_sections": true,
   "sideBar": true,
   "skip_h1_title": false,
   "title_cell": "Table of Contents",
   "title_sidebar": "Contents",
   "toc_cell": false,
   "toc_position": {},
   "toc_section_display": true,
   "toc_window_display": false
  },
  "varInspector": {
   "cols": {
    "lenName": 16,
    "lenType": 16,
    "lenVar": 40
   },
   "kernels_config": {
    "python": {
     "delete_cmd_postfix": "",
     "delete_cmd_prefix": "del ",
     "library": "var_list.py",
     "varRefreshCmd": "print(var_dic_list())"
    },
    "r": {
     "delete_cmd_postfix": ") ",
     "delete_cmd_prefix": "rm(",
     "library": "var_list.r",
     "varRefreshCmd": "cat(var_dic_list()) "
    }
   },
   "types_to_exclude": [
    "module",
    "function",
    "builtin_function_or_method",
    "instance",
    "_Feature"
   ],
   "window_display": false
  }
 },
 "nbformat": 4,
 "nbformat_minor": 2
}
