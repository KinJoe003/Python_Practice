{
 "cells": [
  {
   "cell_type": "code",
   "execution_count": 105,
   "metadata": {},
   "outputs": [],
   "source": [
    "import abc\n",
    "\n",
    "class Car():\n",
    "   \n",
    "    car_types = {\"Porsche\", \"BMW\", \"TOYOTA\", \"Tesla\"}\n",
    "    \n",
    "    def __init__(self, types, power, price, seat, color):\n",
    "        self.types = types\n",
    "        self.power = power\n",
    "        self.price = price\n",
    "        self.seat = seat\n",
    "        self.color = color\n",
    "        \n",
    "\n",
    "    def voice():\n",
    "        print(\"歡迎光臨\")    \n",
    "    \n",
    "    def show(self):\n",
    "        if self.types not in Car.car_types:\n",
    "            print(\"親愛的貴賓您好，本商店無此物件\")\n",
    "        if self.types == \"Porsche\":\n",
    "            print(\"霸氣!王者風範\")\n",
    "        elif self.types == \"TOYOTA\":\n",
    "            print(\"國產車界之王\")\n",
    "        elif self.types == \"BMW\":\n",
    "            print(\"狂野豪氣戰鬥風\")\n",
    "        elif self.types == \"Tesla\":\n",
    "            print(\"電動車龍頭老大\")\n",
    "            \n",
    "        else:\n",
    "            print(\"請重新選一台喜歡的吧\")\n",
    "            \n",
    "            \n",
    "    def detail(self):\n",
    "        details = \"\"\"\n",
    "        車名 = {}\n",
    "        馬力 = {}      \n",
    "        價格 = {}\n",
    "        座位 = {}        \n",
    "        \"\"\".format(self.types, \n",
    "                   self.power,\n",
    "                   self.price,\n",
    "                   self.seat)\n",
    "        return details        "
   ]
  },
  {
   "cell_type": "code",
   "execution_count": 167,
   "metadata": {},
   "outputs": [],
   "source": [
    "class Car2():\n",
    "\n",
    "    def __init__(self, name, move, speed, toot=\"叭~~~~叭叭叭叭\", sound=\"轟轟轟轟~拉風\", voice=\"speed is regular\"):\n",
    "        self.__name = name\n",
    "        self.__move = move\n",
    "        self.__speed = speed\n",
    "        self.__toot = toot\n",
    "        self.__sound = sound\n",
    "        self.__voice = voice\n",
    "        self.Driving_distance = 0\n",
    "        self.Speed_Driving = 0\n",
    " \n",
    "    \n",
    "    def move(self):\n",
    "        return self.__sound\n",
    "    \n",
    "    def speed(self):\n",
    "        return self.__voice\n",
    "\n",
    "    @staticmethod\n",
    "    def scratch():\n",
    "        return \"ouch!!\"  \n",
    "    \n",
    "    def launch():\n",
    "        return \"引擎發動\"\n",
    "    \n",
    "    def Emergency_stop(selfs):\n",
    "        return selfs.__toot\n",
    "\n",
    "    def Driving(self):\n",
    "        self.Driving_distance += 1\n",
    "        if self.Driving_distance < 10:\n",
    "            return self.move()\n",
    "        else:\n",
    "            return \"Out of oil!!\"\n",
    "        \n",
    "    def Run_speed(self):\n",
    "        self.Speed_Driving += 1\n",
    "        if self.Speed_Driving < 10:\n",
    "            return self.speed()\n",
    "        else:\n",
    "            return \"Max speed Danger!!\"    \n",
    "\n",
    "    @classmethod\n",
    "    def Porsche_car(cls, name):\n",
    "        return cls(name, \"red\")\n",
    "\n",
    "    @classmethod\n",
    "    def BMW_car(cls, name):\n",
    "        return cls(name, \"white\")\n",
    "    \n",
    "    @classmethod\n",
    "    def TOYOTA_car(cls, name):\n",
    "        return cls(name, \"black\")\n",
    "    \n",
    "    @classmethod\n",
    "    def Tesla_car(cls, name):\n",
    "        return cls(name, \"silver\")"
   ]
  },
  {
   "cell_type": "code",
   "execution_count": 155,
   "metadata": {},
   "outputs": [
    {
     "name": "stdout",
     "output_type": "stream",
     "text": [
      "歡迎光臨\n",
      "\n",
      "        車名 = BMW\n",
      "        馬力 = 320hp      \n",
      "        價格 = 245萬\n",
      "        座位 = 4        \n",
      "        \n",
      "狂野豪氣戰鬥風\n",
      "\n"
     ]
    }
   ],
   "source": [
    "Car.voice()\n",
    "\n",
    "\n",
    "my_car1 = Car(\"BMW\", \"320hp\", \"245萬\", \"4\", \"white\")\n",
    "print(my_car1.detail())\n",
    "my_car1.show()\n",
    "\n",
    "print()"
   ]
  },
  {
   "cell_type": "code",
   "execution_count": 170,
   "metadata": {},
   "outputs": [
    {
     "name": "stdout",
     "output_type": "stream",
     "text": [
      "鑰匙插入key on:\n"
     ]
    },
    {
     "data": {
      "text/plain": [
       "'引擎發動'"
      ]
     },
     "execution_count": 170,
     "metadata": {},
     "output_type": "execute_result"
    }
   ],
   "source": [
    "print(\"鑰匙插入key on:\")\n",
    "Car2.launch()"
   ]
  },
  {
   "cell_type": "code",
   "execution_count": 171,
   "metadata": {},
   "outputs": [
    {
     "name": "stdout",
     "output_type": "stream",
     "text": [
      "注意前方!\n"
     ]
    },
    {
     "data": {
      "text/plain": [
       "'叭~~~~叭叭叭叭'"
      ]
     },
     "execution_count": 171,
     "metadata": {},
     "output_type": "execute_result"
    }
   ],
   "source": [
    "print(\"注意前方!\")\n",
    "car_look = Car2(\"BMW\", 1, 1)\n",
    "car_look.Emergency_stop()"
   ]
  },
  {
   "cell_type": "code",
   "execution_count": 118,
   "metadata": {},
   "outputs": [
    {
     "name": "stdout",
     "output_type": "stream",
     "text": [
      "車體刮到!\n"
     ]
    },
    {
     "data": {
      "text/plain": [
       "'ouch!!'"
      ]
     },
     "execution_count": 118,
     "metadata": {},
     "output_type": "execute_result"
    }
   ],
   "source": [
    "print(\"車體刮到!\")\n",
    "Car2.scratch()"
   ]
  },
  {
   "cell_type": "code",
   "execution_count": 119,
   "metadata": {},
   "outputs": [
    {
     "name": "stdout",
     "output_type": "stream",
     "text": [
      "注意油耗量!\n"
     ]
    },
    {
     "data": {
      "text/plain": [
       "'轟轟轟轟~拉風'"
      ]
     },
     "execution_count": 119,
     "metadata": {},
     "output_type": "execute_result"
    }
   ],
   "source": [
    "# print(\"注意油耗量!\") # 行駛距離 >10時，油量將會耗光\n",
    "# car_Fuel_consumption = Car2(\"BMW\", 1, 1)\n",
    "# car_Fuel_consumption.Driving()"
   ]
  },
  {
   "cell_type": "code",
   "execution_count": 161,
   "metadata": {},
   "outputs": [
    {
     "name": "stdout",
     "output_type": "stream",
     "text": [
      "注意速度!\n"
     ]
    },
    {
     "data": {
      "text/plain": [
       "'speed is regular'"
      ]
     },
     "execution_count": 161,
     "metadata": {},
     "output_type": "execute_result"
    }
   ],
   "source": [
    "print(\"注意速度!\") # 行駛速度 >10時，行駛將會超速\n",
    "car_speeding = Car2(\"BMW\", 1, 1)\n",
    "car_speeding.Run_speed()"
   ]
  },
  {
   "cell_type": "code",
   "execution_count": null,
   "metadata": {},
   "outputs": [],
   "source": []
  },
  {
   "cell_type": "code",
   "execution_count": null,
   "metadata": {},
   "outputs": [],
   "source": []
  },
  {
   "cell_type": "code",
   "execution_count": null,
   "metadata": {},
   "outputs": [],
   "source": []
  },
  {
   "cell_type": "code",
   "execution_count": null,
   "metadata": {},
   "outputs": [],
   "source": []
  },
  {
   "cell_type": "code",
   "execution_count": null,
   "metadata": {},
   "outputs": [],
   "source": []
  },
  {
   "cell_type": "code",
   "execution_count": null,
   "metadata": {},
   "outputs": [],
   "source": []
  },
  {
   "cell_type": "code",
   "execution_count": null,
   "metadata": {},
   "outputs": [],
   "source": []
  },
  {
   "cell_type": "code",
   "execution_count": null,
   "metadata": {},
   "outputs": [],
   "source": []
  }
 ],
 "metadata": {
  "kernelspec": {
   "display_name": "Python 3",
   "language": "python",
   "name": "python3"
  },
  "language_info": {
   "codemirror_mode": {
    "name": "ipython",
    "version": 3
   },
   "file_extension": ".py",
   "mimetype": "text/x-python",
   "name": "python",
   "nbconvert_exporter": "python",
   "pygments_lexer": "ipython3",
   "version": "3.8.8"
  }
 },
 "nbformat": 4,
 "nbformat_minor": 4
}
