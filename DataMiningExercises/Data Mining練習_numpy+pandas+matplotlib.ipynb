{
 "cells": [
  {
   "cell_type": "code",
   "execution_count": 6,
   "id": "pediatric-subcommittee",
   "metadata": {},
   "outputs": [
    {
     "name": "stdout",
     "output_type": "stream",
     "text": [
      "Collecting matplotlib\n",
      "  Downloading matplotlib-3.4.2-cp38-cp38-win_amd64.whl (7.1 MB)\n",
      "Collecting cycler>=0.10\n",
      "  Downloading cycler-0.10.0-py2.py3-none-any.whl (6.5 kB)\n",
      "Requirement already satisfied: python-dateutil>=2.7 in d:\\anaconda\\envs\\python test\\lib\\site-packages (from matplotlib) (2.8.1)\n",
      "Collecting kiwisolver>=1.0.1\n",
      "  Downloading kiwisolver-1.3.1-cp38-cp38-win_amd64.whl (51 kB)\n",
      "Requirement already satisfied: numpy>=1.16 in d:\\anaconda\\envs\\python test\\lib\\site-packages (from matplotlib) (1.20.3)\n",
      "Collecting pillow>=6.2.0\n",
      "  Downloading Pillow-8.2.0-cp38-cp38-win_amd64.whl (2.2 MB)\n",
      "Requirement already satisfied: pyparsing>=2.2.1 in d:\\anaconda\\envs\\python test\\lib\\site-packages (from matplotlib) (2.4.7)\n",
      "Requirement already satisfied: six in d:\\anaconda\\envs\\python test\\lib\\site-packages (from cycler>=0.10->matplotlib) (1.15.0)\n",
      "Installing collected packages: pillow, kiwisolver, cycler, matplotlib\n",
      "Successfully installed cycler-0.10.0 kiwisolver-1.3.1 matplotlib-3.4.2 pillow-8.2.0\n"
     ]
    }
   ],
   "source": [
    " !pip install matplotlib"
   ]
  },
  {
   "cell_type": "markdown",
   "id": "formal-kentucky",
   "metadata": {},
   "source": [
    "## Numpy"
   ]
  },
  {
   "cell_type": "code",
   "execution_count": 1,
   "id": "elegant-thickness",
   "metadata": {},
   "outputs": [],
   "source": [
    "#寫程式計算以下值\n",
    "import numpy as np\n",
    "x = np.array([[1, 3, 5], [2, 4, 6]], np.int32)\n",
    "#計算\n",
    "#type(x)\n",
    "#x.shape\n",
    "#x.dtype\n",
    "#x[:,1]\n",
    "A = np.array([[3,2],[0,1]])\n",
    "B = np.array([[3,1],[2,1]])\n",
    "#求\n",
    "#A+B\n",
    "#A*B\n",
    "#A@B\n",
    "#A的轉置矩陣\n",
    "#B的反矩陣"
   ]
  },
  {
   "cell_type": "code",
   "execution_count": 2,
   "id": "natural-president",
   "metadata": {},
   "outputs": [
    {
     "data": {
      "text/plain": [
       "array([[6, 3],\n",
       "       [2, 2]])"
      ]
     },
     "execution_count": 2,
     "metadata": {},
     "output_type": "execute_result"
    }
   ],
   "source": [
    "A+B"
   ]
  },
  {
   "cell_type": "code",
   "execution_count": 3,
   "id": "perceived-sudan",
   "metadata": {},
   "outputs": [
    {
     "data": {
      "text/plain": [
       "array([[9, 2],\n",
       "       [0, 1]])"
      ]
     },
     "execution_count": 3,
     "metadata": {},
     "output_type": "execute_result"
    }
   ],
   "source": [
    "A*B"
   ]
  },
  {
   "cell_type": "code",
   "execution_count": 4,
   "id": "protective-brain",
   "metadata": {},
   "outputs": [
    {
     "data": {
      "text/plain": [
       "array([[13,  5],\n",
       "       [ 2,  1]])"
      ]
     },
     "execution_count": 4,
     "metadata": {},
     "output_type": "execute_result"
    }
   ],
   "source": [
    "A@B"
   ]
  },
  {
   "cell_type": "code",
   "execution_count": 23,
   "id": "printable-worry",
   "metadata": {},
   "outputs": [
    {
     "name": "stdout",
     "output_type": "stream",
     "text": [
      "[[3 2]\n",
      " [0 1]]\n"
     ]
    }
   ],
   "source": [
    "#A的轉置矩陣\n",
    "import numpy as np\n",
    "\n",
    "A = np.array([[3,2],[0,1]])\n",
    "print(A)"
   ]
  },
  {
   "cell_type": "code",
   "execution_count": 24,
   "id": "behind-radio",
   "metadata": {},
   "outputs": [
    {
     "name": "stdout",
     "output_type": "stream",
     "text": [
      "[[ 1. -1.]\n",
      " [-2.  3.]]\n"
     ]
    }
   ],
   "source": [
    "#B的反矩陣\n",
    "import numpy as np\n",
    "B = np.array([[3,1],[2,1]])\n",
    "print(np.linalg.inv(B)) #求B的反矩陣，若B不可逆會出錯"
   ]
  },
  {
   "cell_type": "markdown",
   "id": "minor-assumption",
   "metadata": {},
   "source": [
    "## Pandas"
   ]
  },
  {
   "cell_type": "markdown",
   "id": "hungarian-ballot",
   "metadata": {},
   "source": [
    "利用給各位的 employees.csv\n",
    "1. 讀入data frame，稱為 data\n",
    "2. sort by 'First Name'\n",
    "3. 檢查有沒有 'First Name' 重複，以bool_series儲存之\n",
    "4. 除去Duplications\n",
    "5. 印出 data.head() data.info()"
   ]
  },
  {
   "cell_type": "code",
   "execution_count": 32,
   "id": "departmental-ambassador",
   "metadata": {},
   "outputs": [],
   "source": [
    "# importing pandas package \n",
    "import pandas as pd \n",
    "\n",
    "# making data frame from csv file \n",
    "data = pd.read_csv(\"./Tibame/DataMiningExercises/employees.csv\") "
   ]
  },
  {
   "cell_type": "code",
   "execution_count": 33,
   "id": "exciting-museum",
   "metadata": {},
   "outputs": [
    {
     "data": {
      "text/plain": [
       "101    False\n",
       "327     True\n",
       "440     True\n",
       "937     True\n",
       "137    False\n",
       "       ...  \n",
       "902     True\n",
       "925     True\n",
       "946     True\n",
       "947     True\n",
       "951     True\n",
       "Name: First Name, Length: 1000, dtype: bool"
      ]
     },
     "execution_count": 33,
     "metadata": {},
     "output_type": "execute_result"
    }
   ],
   "source": [
    "# sorting by first name \n",
    "data.sort_values(\"First Name\", inplace = True) \n",
    "\n",
    "# making a bool series \n",
    "bool_series = data[\"First Name\"].duplicated() \n",
    "bool_series"
   ]
  },
  {
   "cell_type": "code",
   "execution_count": 34,
   "id": "horizontal-delaware",
   "metadata": {},
   "outputs": [
    {
     "name": "stdout",
     "output_type": "stream",
     "text": [
      "    First Name Gender Start Date Last Login Time  Salary  Bonus %  \\\n",
      "101      Aaron   Male  2/17/2012        10:20 AM   61602   11.849   \n",
      "327      Aaron   Male  1/29/1994         6:48 PM   58755    5.097   \n",
      "440      Aaron   Male  7/22/1990         2:53 PM   52119   11.343   \n",
      "937      Aaron    NaN  1/22/1986         7:39 PM   63126   18.424   \n",
      "137       Adam   Male  5/21/2011         1:45 AM   95327   15.120   \n",
      "\n",
      "    Senior Management             Team  \n",
      "101              True        Marketing  \n",
      "327              True        Marketing  \n",
      "440              True  Client Services  \n",
      "937             False  Client Services  \n",
      "137             False     Distribution  \n"
     ]
    },
    {
     "data": {
      "text/html": [
       "<div>\n",
       "<style scoped>\n",
       "    .dataframe tbody tr th:only-of-type {\n",
       "        vertical-align: middle;\n",
       "    }\n",
       "\n",
       "    .dataframe tbody tr th {\n",
       "        vertical-align: top;\n",
       "    }\n",
       "\n",
       "    .dataframe thead th {\n",
       "        text-align: right;\n",
       "    }\n",
       "</style>\n",
       "<table border=\"1\" class=\"dataframe\">\n",
       "  <thead>\n",
       "    <tr style=\"text-align: right;\">\n",
       "      <th></th>\n",
       "      <th>First Name</th>\n",
       "      <th>Gender</th>\n",
       "      <th>Start Date</th>\n",
       "      <th>Last Login Time</th>\n",
       "      <th>Salary</th>\n",
       "      <th>Bonus %</th>\n",
       "      <th>Senior Management</th>\n",
       "      <th>Team</th>\n",
       "    </tr>\n",
       "  </thead>\n",
       "  <tbody>\n",
       "    <tr>\n",
       "      <th>327</th>\n",
       "      <td>Aaron</td>\n",
       "      <td>Male</td>\n",
       "      <td>1/29/1994</td>\n",
       "      <td>6:48 PM</td>\n",
       "      <td>58755</td>\n",
       "      <td>5.097</td>\n",
       "      <td>True</td>\n",
       "      <td>Marketing</td>\n",
       "    </tr>\n",
       "    <tr>\n",
       "      <th>440</th>\n",
       "      <td>Aaron</td>\n",
       "      <td>Male</td>\n",
       "      <td>7/22/1990</td>\n",
       "      <td>2:53 PM</td>\n",
       "      <td>52119</td>\n",
       "      <td>11.343</td>\n",
       "      <td>True</td>\n",
       "      <td>Client Services</td>\n",
       "    </tr>\n",
       "    <tr>\n",
       "      <th>937</th>\n",
       "      <td>Aaron</td>\n",
       "      <td>NaN</td>\n",
       "      <td>1/22/1986</td>\n",
       "      <td>7:39 PM</td>\n",
       "      <td>63126</td>\n",
       "      <td>18.424</td>\n",
       "      <td>False</td>\n",
       "      <td>Client Services</td>\n",
       "    </tr>\n",
       "    <tr>\n",
       "      <th>141</th>\n",
       "      <td>Adam</td>\n",
       "      <td>Male</td>\n",
       "      <td>12/24/1990</td>\n",
       "      <td>8:57 PM</td>\n",
       "      <td>110194</td>\n",
       "      <td>14.727</td>\n",
       "      <td>True</td>\n",
       "      <td>Product</td>\n",
       "    </tr>\n",
       "    <tr>\n",
       "      <th>302</th>\n",
       "      <td>Adam</td>\n",
       "      <td>Male</td>\n",
       "      <td>7/5/2007</td>\n",
       "      <td>11:59 AM</td>\n",
       "      <td>71276</td>\n",
       "      <td>5.027</td>\n",
       "      <td>True</td>\n",
       "      <td>Human Resources</td>\n",
       "    </tr>\n",
       "    <tr>\n",
       "      <th>...</th>\n",
       "      <td>...</td>\n",
       "      <td>...</td>\n",
       "      <td>...</td>\n",
       "      <td>...</td>\n",
       "      <td>...</td>\n",
       "      <td>...</td>\n",
       "      <td>...</td>\n",
       "      <td>...</td>\n",
       "    </tr>\n",
       "    <tr>\n",
       "      <th>902</th>\n",
       "      <td>NaN</td>\n",
       "      <td>Male</td>\n",
       "      <td>5/23/2001</td>\n",
       "      <td>7:52 PM</td>\n",
       "      <td>103877</td>\n",
       "      <td>6.322</td>\n",
       "      <td>NaN</td>\n",
       "      <td>Distribution</td>\n",
       "    </tr>\n",
       "    <tr>\n",
       "      <th>925</th>\n",
       "      <td>NaN</td>\n",
       "      <td>Female</td>\n",
       "      <td>8/23/2000</td>\n",
       "      <td>4:19 PM</td>\n",
       "      <td>95866</td>\n",
       "      <td>19.388</td>\n",
       "      <td>NaN</td>\n",
       "      <td>Sales</td>\n",
       "    </tr>\n",
       "    <tr>\n",
       "      <th>946</th>\n",
       "      <td>NaN</td>\n",
       "      <td>Female</td>\n",
       "      <td>9/15/1985</td>\n",
       "      <td>1:50 AM</td>\n",
       "      <td>133472</td>\n",
       "      <td>16.941</td>\n",
       "      <td>NaN</td>\n",
       "      <td>Distribution</td>\n",
       "    </tr>\n",
       "    <tr>\n",
       "      <th>947</th>\n",
       "      <td>NaN</td>\n",
       "      <td>Male</td>\n",
       "      <td>7/30/2012</td>\n",
       "      <td>3:07 PM</td>\n",
       "      <td>107351</td>\n",
       "      <td>5.329</td>\n",
       "      <td>NaN</td>\n",
       "      <td>Marketing</td>\n",
       "    </tr>\n",
       "    <tr>\n",
       "      <th>951</th>\n",
       "      <td>NaN</td>\n",
       "      <td>Female</td>\n",
       "      <td>9/14/2010</td>\n",
       "      <td>5:19 AM</td>\n",
       "      <td>143638</td>\n",
       "      <td>9.662</td>\n",
       "      <td>NaN</td>\n",
       "      <td>NaN</td>\n",
       "    </tr>\n",
       "  </tbody>\n",
       "</table>\n",
       "<p>799 rows × 8 columns</p>\n",
       "</div>"
      ],
      "text/plain": [
       "    First Name  Gender  Start Date Last Login Time  Salary  Bonus %  \\\n",
       "327      Aaron    Male   1/29/1994         6:48 PM   58755    5.097   \n",
       "440      Aaron    Male   7/22/1990         2:53 PM   52119   11.343   \n",
       "937      Aaron     NaN   1/22/1986         7:39 PM   63126   18.424   \n",
       "141       Adam    Male  12/24/1990         8:57 PM  110194   14.727   \n",
       "302       Adam    Male    7/5/2007        11:59 AM   71276    5.027   \n",
       "..         ...     ...         ...             ...     ...      ...   \n",
       "902        NaN    Male   5/23/2001         7:52 PM  103877    6.322   \n",
       "925        NaN  Female   8/23/2000         4:19 PM   95866   19.388   \n",
       "946        NaN  Female   9/15/1985         1:50 AM  133472   16.941   \n",
       "947        NaN    Male   7/30/2012         3:07 PM  107351    5.329   \n",
       "951        NaN  Female   9/14/2010         5:19 AM  143638    9.662   \n",
       "\n",
       "    Senior Management             Team  \n",
       "327              True        Marketing  \n",
       "440              True  Client Services  \n",
       "937             False  Client Services  \n",
       "141              True          Product  \n",
       "302              True  Human Resources  \n",
       "..                ...              ...  \n",
       "902               NaN     Distribution  \n",
       "925               NaN            Sales  \n",
       "946               NaN     Distribution  \n",
       "947               NaN        Marketing  \n",
       "951               NaN              NaN  \n",
       "\n",
       "[799 rows x 8 columns]"
      ]
     },
     "execution_count": 34,
     "metadata": {},
     "output_type": "execute_result"
    }
   ],
   "source": [
    "# displaying data \n",
    "print(data.head()) \n",
    "\n",
    "# display data \n",
    "data[bool_series] "
   ]
  },
  {
   "cell_type": "code",
   "execution_count": 35,
   "id": "judicial-grave",
   "metadata": {},
   "outputs": [
    {
     "name": "stdout",
     "output_type": "stream",
     "text": [
      "<class 'pandas.core.frame.DataFrame'>\n",
      "Int64Index: 201 entries, 101 to 7\n",
      "Data columns (total 8 columns):\n",
      " #   Column             Non-Null Count  Dtype  \n",
      "---  ------             --------------  -----  \n",
      " 0   First Name         200 non-null    object \n",
      " 1   Gender             178 non-null    object \n",
      " 2   Start Date         201 non-null    object \n",
      " 3   Last Login Time    201 non-null    object \n",
      " 4   Salary             201 non-null    int64  \n",
      " 5   Bonus %            201 non-null    float64\n",
      " 6   Senior Management  200 non-null    object \n",
      " 7   Team               197 non-null    object \n",
      "dtypes: float64(1), int64(1), object(6)\n",
      "memory usage: 14.1+ KB\n",
      "None\n"
     ]
    },
    {
     "data": {
      "text/html": [
       "<div>\n",
       "<style scoped>\n",
       "    .dataframe tbody tr th:only-of-type {\n",
       "        vertical-align: middle;\n",
       "    }\n",
       "\n",
       "    .dataframe tbody tr th {\n",
       "        vertical-align: top;\n",
       "    }\n",
       "\n",
       "    .dataframe thead th {\n",
       "        text-align: right;\n",
       "    }\n",
       "</style>\n",
       "<table border=\"1\" class=\"dataframe\">\n",
       "  <thead>\n",
       "    <tr style=\"text-align: right;\">\n",
       "      <th></th>\n",
       "      <th>First Name</th>\n",
       "      <th>Gender</th>\n",
       "      <th>Start Date</th>\n",
       "      <th>Last Login Time</th>\n",
       "      <th>Salary</th>\n",
       "      <th>Bonus %</th>\n",
       "      <th>Senior Management</th>\n",
       "      <th>Team</th>\n",
       "    </tr>\n",
       "  </thead>\n",
       "  <tbody>\n",
       "    <tr>\n",
       "      <th>101</th>\n",
       "      <td>Aaron</td>\n",
       "      <td>Male</td>\n",
       "      <td>2/17/2012</td>\n",
       "      <td>10:20 AM</td>\n",
       "      <td>61602</td>\n",
       "      <td>11.849</td>\n",
       "      <td>True</td>\n",
       "      <td>Marketing</td>\n",
       "    </tr>\n",
       "    <tr>\n",
       "      <th>137</th>\n",
       "      <td>Adam</td>\n",
       "      <td>Male</td>\n",
       "      <td>5/21/2011</td>\n",
       "      <td>1:45 AM</td>\n",
       "      <td>95327</td>\n",
       "      <td>15.120</td>\n",
       "      <td>False</td>\n",
       "      <td>Distribution</td>\n",
       "    </tr>\n",
       "    <tr>\n",
       "      <th>300</th>\n",
       "      <td>Alan</td>\n",
       "      <td>Male</td>\n",
       "      <td>6/26/1988</td>\n",
       "      <td>3:54 AM</td>\n",
       "      <td>111786</td>\n",
       "      <td>3.592</td>\n",
       "      <td>True</td>\n",
       "      <td>Engineering</td>\n",
       "    </tr>\n",
       "    <tr>\n",
       "      <th>372</th>\n",
       "      <td>Albert</td>\n",
       "      <td>Male</td>\n",
       "      <td>2/1/1997</td>\n",
       "      <td>4:20 PM</td>\n",
       "      <td>67827</td>\n",
       "      <td>19.717</td>\n",
       "      <td>True</td>\n",
       "      <td>Engineering</td>\n",
       "    </tr>\n",
       "    <tr>\n",
       "      <th>988</th>\n",
       "      <td>Alice</td>\n",
       "      <td>Female</td>\n",
       "      <td>10/5/2004</td>\n",
       "      <td>9:34 AM</td>\n",
       "      <td>47638</td>\n",
       "      <td>11.209</td>\n",
       "      <td>False</td>\n",
       "      <td>Human Resources</td>\n",
       "    </tr>\n",
       "    <tr>\n",
       "      <th>...</th>\n",
       "      <td>...</td>\n",
       "      <td>...</td>\n",
       "      <td>...</td>\n",
       "      <td>...</td>\n",
       "      <td>...</td>\n",
       "      <td>...</td>\n",
       "      <td>...</td>\n",
       "      <td>...</td>\n",
       "    </tr>\n",
       "    <tr>\n",
       "      <th>433</th>\n",
       "      <td>Wanda</td>\n",
       "      <td>Female</td>\n",
       "      <td>7/20/2008</td>\n",
       "      <td>1:44 PM</td>\n",
       "      <td>65362</td>\n",
       "      <td>7.132</td>\n",
       "      <td>True</td>\n",
       "      <td>Legal</td>\n",
       "    </tr>\n",
       "    <tr>\n",
       "      <th>177</th>\n",
       "      <td>Wayne</td>\n",
       "      <td>Male</td>\n",
       "      <td>4/7/2012</td>\n",
       "      <td>8:00 AM</td>\n",
       "      <td>102652</td>\n",
       "      <td>14.085</td>\n",
       "      <td>True</td>\n",
       "      <td>Distribution</td>\n",
       "    </tr>\n",
       "    <tr>\n",
       "      <th>820</th>\n",
       "      <td>William</td>\n",
       "      <td>Male</td>\n",
       "      <td>11/18/1993</td>\n",
       "      <td>12:27 PM</td>\n",
       "      <td>54058</td>\n",
       "      <td>5.182</td>\n",
       "      <td>True</td>\n",
       "      <td>Human Resources</td>\n",
       "    </tr>\n",
       "    <tr>\n",
       "      <th>450</th>\n",
       "      <td>Willie</td>\n",
       "      <td>Male</td>\n",
       "      <td>8/22/2009</td>\n",
       "      <td>1:03 PM</td>\n",
       "      <td>55038</td>\n",
       "      <td>19.691</td>\n",
       "      <td>False</td>\n",
       "      <td>Legal</td>\n",
       "    </tr>\n",
       "    <tr>\n",
       "      <th>7</th>\n",
       "      <td>NaN</td>\n",
       "      <td>Female</td>\n",
       "      <td>7/20/2015</td>\n",
       "      <td>10:43 AM</td>\n",
       "      <td>45906</td>\n",
       "      <td>11.598</td>\n",
       "      <td>NaN</td>\n",
       "      <td>Finance</td>\n",
       "    </tr>\n",
       "  </tbody>\n",
       "</table>\n",
       "<p>201 rows × 8 columns</p>\n",
       "</div>"
      ],
      "text/plain": [
       "    First Name  Gender  Start Date Last Login Time  Salary  Bonus %  \\\n",
       "101      Aaron    Male   2/17/2012        10:20 AM   61602   11.849   \n",
       "137       Adam    Male   5/21/2011         1:45 AM   95327   15.120   \n",
       "300       Alan    Male   6/26/1988         3:54 AM  111786    3.592   \n",
       "372     Albert    Male    2/1/1997         4:20 PM   67827   19.717   \n",
       "988      Alice  Female   10/5/2004         9:34 AM   47638   11.209   \n",
       "..         ...     ...         ...             ...     ...      ...   \n",
       "433      Wanda  Female   7/20/2008         1:44 PM   65362    7.132   \n",
       "177      Wayne    Male    4/7/2012         8:00 AM  102652   14.085   \n",
       "820    William    Male  11/18/1993        12:27 PM   54058    5.182   \n",
       "450     Willie    Male   8/22/2009         1:03 PM   55038   19.691   \n",
       "7          NaN  Female   7/20/2015        10:43 AM   45906   11.598   \n",
       "\n",
       "    Senior Management             Team  \n",
       "101              True        Marketing  \n",
       "137             False     Distribution  \n",
       "300              True      Engineering  \n",
       "372              True      Engineering  \n",
       "988             False  Human Resources  \n",
       "..                ...              ...  \n",
       "433              True            Legal  \n",
       "177              True     Distribution  \n",
       "820              True  Human Resources  \n",
       "450             False            Legal  \n",
       "7                 NaN          Finance  \n",
       "\n",
       "[201 rows x 8 columns]"
      ]
     },
     "execution_count": 35,
     "metadata": {},
     "output_type": "execute_result"
    }
   ],
   "source": [
    "# passing NOT of bool series to see unique values only \n",
    "data = data[~bool_series] \n",
    "\n",
    "# displaying data \n",
    "print(data.info() )\n",
    "data "
   ]
  },
  {
   "cell_type": "markdown",
   "id": "precious-london",
   "metadata": {},
   "source": [
    "## MatplotLib"
   ]
  },
  {
   "cell_type": "code",
   "execution_count": 8,
   "id": "statutory-wellington",
   "metadata": {},
   "outputs": [],
   "source": [
    "#畫曲線\n",
    "from matplotlib import pyplot as pl\n",
    "#pl.subplot (211)畫個藍色三角虛線曲線 y1曲線，pl.subplot(212)也畫個綠色圓形實線曲線 y2曲線\n",
    "\n",
    "x = range(-8, 8)\n",
    "y1 = [2*i**2+i - 1 for i in x]\n",
    "y2 = [3 * i ** 3 - 6 * i - 9 for i in x]\n",
    "\n",
    "#畫餅型圖\n",
    "labels = 'Lakers', 'Bucks', 'Nets', 'Jazz'\n",
    "sizes = [25, 30, 25, 20]\n",
    "explode = (0, 0.2, 0, 0)"
   ]
  },
  {
   "cell_type": "code",
   "execution_count": 14,
   "id": "decreased-pattern",
   "metadata": {},
   "outputs": [
    {
     "data": {
      "text/plain": [
       "Text(0, 0.5, 'y-axe1')"
      ]
     },
     "execution_count": 14,
     "metadata": {},
     "output_type": "execute_result"
    },
    {
     "data": {
      "image/png": "[encoded data removed]",
      "text/plain": [
       "<Figure size 432x288 with 1 Axes>"
      ]
     },
     "metadata": {
      "needs_background": "light"
     },
     "output_type": "display_data"
    }
   ],
   "source": [
    "import matplotlib.pyplot as plt\n",
    "\n",
    "pl.subplot(211)\n",
    "pl.plot(x, y1, 'ob--', label=u'y=x^3+2x^2+x-1')\n",
    "pl.legend()\n",
    "pl.xticks([-8, -6, -4, -2, 0, 2, 4, 6, 8])\n",
    "pl.title('Matplotlib Test 1')\n",
    "pl.xlabel('x-axe1')\n",
    "pl.ylabel('y-axe1')"
   ]
  },
  {
   "cell_type": "code",
   "execution_count": 15,
   "id": "rough-banana",
   "metadata": {},
   "outputs": [
    {
     "data": {
      "text/plain": [
       "Text(0, 0.5, 'y-axe1')"
      ]
     },
     "execution_count": 15,
     "metadata": {},
     "output_type": "execute_result"
    },
    {
     "data": {
      "image/png": "[encoded data removed]",
      "text/plain": [
       "<Figure size 432x288 with 1 Axes>"
      ]
     },
     "metadata": {
      "needs_background": "light"
     },
     "output_type": "display_data"
    }
   ],
   "source": [
    "import matplotlib.pyplot as plt\n",
    "\n",
    "pl.subplot(211)\n",
    "pl.plot(x, y2, 'ob--', label=u'y=x^3+2x^2+x-1')\n",
    "pl.legend()\n",
    "pl.xticks([-8, -6, -4, -2, 0, 2, 4, 6, 8])\n",
    "pl.title('Matplotlib Test 1')\n",
    "pl.xlabel('x-axe1')\n",
    "pl.ylabel('y-axe1')"
   ]
  },
  {
   "cell_type": "code",
   "execution_count": 9,
   "id": "three-shanghai",
   "metadata": {},
   "outputs": [
    {
     "data": {
      "image/png": "[encoded data removed]",
      "text/plain": [
       "<Figure size 432x288 with 1 Axes>"
      ]
     },
     "metadata": {},
     "output_type": "display_data"
    }
   ],
   "source": [
    "import matplotlib.pyplot as plt\n",
    "\n",
    "fig1, ax1 = plt.subplots()\n",
    "ax1.pie(sizes, explode=explode, labels=labels, autopct='%1.1f%%',\n",
    "        shadow=True, startangle=90)\n",
    "ax1.axis('equal')  # Equal aspect ratio ensures that pie is drawn as a circle.\n",
    "\n",
    "plt.show()"
   ]
  },
  {
   "cell_type": "code",
   "execution_count": null,
   "id": "adolescent-decision",
   "metadata": {},
   "outputs": [],
   "source": []
  }
 ],
 "metadata": {
  "kernelspec": {
   "display_name": "Python 3",
   "language": "python",
   "name": "python3"
  },
  "language_info": {
   "codemirror_mode": {
    "name": "ipython",
    "version": 3
   },
   "file_extension": ".py",
   "mimetype": "text/x-python",
   "name": "python",
   "nbconvert_exporter": "python",
   "pygments_lexer": "ipython3",
   "version": "3.8.8"
  }
 },
 "nbformat": 4,
 "nbformat_minor": 5
}
