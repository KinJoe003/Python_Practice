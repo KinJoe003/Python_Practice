{
  "nbformat": 4,
  "nbformat_minor": 0,
  "metadata": {
    "colab": {
      "name": "PandasXML1.ipynb",
      "provenance": []
    },
    "kernelspec": {
      "name": "python3",
      "display_name": "Python 3"
    }
  },
  "cells": [
    {
      "cell_type": "code",
      "metadata": {
        "id": "nePng5w7VOaX"
      },
      "source": [
        "import pandas as pd \n",
        "import xml.etree.ElementTree as etree"
      ],
      "execution_count": 19,
      "outputs": []
    },
    {
      "cell_type": "code",
      "metadata": {
        "id": "lZUp82foVmrV"
      },
      "source": [
        "tree = etree.parse('./sample_data/employee2.xml')"
      ],
      "execution_count": 30,
      "outputs": []
    },
    {
      "cell_type": "code",
      "metadata": {
        "id": "fpvRUBhwVDPt"
      },
      "source": [
        "root = tree.getroot()\n",
        "columns = [\"name\", \"email\", \"age\"]\n",
        "datatframe = pd.DataFrame(columns = columns)\n",
        "for node in root: \n",
        "    name = node.attrib.get(\"name\")\n",
        "    mail = node.find(\"email\").text if node is not None else None\n",
        "    age = node.find(\"age\").text if node is not None else None\n",
        "    datatframe = datatframe.append(pd.Series([name, mail, age], index = columns), ignore_index = True)"
      ],
      "execution_count": 31,
      "outputs": []
    },
    {
      "cell_type": "code",
      "metadata": {
        "id": "Pv-29P7KapvB",
        "outputId": "7890fc15-c23f-4bdd-949f-76292398b05f",
        "colab": {
          "base_uri": "https://localhost:8080/",
          "height": 168
        }
      },
      "source": [
        "datatframe"
      ],
      "execution_count": 32,
      "outputs": [
        {
          "output_type": "execute_result",
          "data": {
            "text/html": [
              "<div>\n",
              "<style scoped>\n",
              "    .dataframe tbody tr th:only-of-type {\n",
              "        vertical-align: middle;\n",
              "    }\n",
              "\n",
              "    .dataframe tbody tr th {\n",
              "        vertical-align: top;\n",
              "    }\n",
              "\n",
              "    .dataframe thead th {\n",
              "        text-align: right;\n",
              "    }\n",
              "</style>\n",
              "<table border=\"1\" class=\"dataframe\">\n",
              "  <thead>\n",
              "    <tr style=\"text-align: right;\">\n",
              "      <th></th>\n",
              "      <th>name</th>\n",
              "      <th>email</th>\n",
              "      <th>age</th>\n",
              "    </tr>\n",
              "  </thead>\n",
              "  <tbody>\n",
              "    <tr>\n",
              "      <th>0</th>\n",
              "      <td>John</td>\n",
              "      <td>john@mail.com</td>\n",
              "      <td>16</td>\n",
              "    </tr>\n",
              "    <tr>\n",
              "      <th>1</th>\n",
              "      <td>Alice</td>\n",
              "      <td>alice@mail.com</td>\n",
              "      <td>17</td>\n",
              "    </tr>\n",
              "    <tr>\n",
              "      <th>2</th>\n",
              "      <td>Bob</td>\n",
              "      <td>bob@mail.com</td>\n",
              "      <td>16</td>\n",
              "    </tr>\n",
              "    <tr>\n",
              "      <th>3</th>\n",
              "      <td>Hannah</td>\n",
              "      <td>hannah@mail.com</td>\n",
              "      <td>17</td>\n",
              "    </tr>\n",
              "  </tbody>\n",
              "</table>\n",
              "</div>"
            ],
            "text/plain": [
              "     name            email age\n",
              "0    John    john@mail.com  16\n",
              "1   Alice   alice@mail.com  17\n",
              "2     Bob     bob@mail.com  16\n",
              "3  Hannah  hannah@mail.com  17"
            ]
          },
          "metadata": {
            "tags": []
          },
          "execution_count": 32
        }
      ]
    }
  ]
}