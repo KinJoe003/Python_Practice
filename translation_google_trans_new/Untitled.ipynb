{
 "cells": [
  {
   "cell_type": "code",
   "execution_count": 4,
   "metadata": {},
   "outputs": [],
   "source": [
    "# import google_trans_new\n",
    "import pandas as pd\n",
    "import concurrent.futures\n",
    "import csv\n",
    "import re\n",
    "import os\n",
    "\n",
    "import cfb101_google_trans_new\n",
    "\n",
    "translator = cfb101_google_trans_new.google_translator(timeout=5)\n",
    "\n",
    "# 輸入recipe資料\n",
    "recipe_path = \"./cook1cook_crawler_24561-30700.csv\"\n",
    "# recipe資料 to DataFrame\n",
    "recipe_df = pd.read_csv(recipe_path)\n",
    "# recipe英文名稱\n",
    "recipeEng = list()\n",
    "# 輸出recipe csv檔案位置\n",
    "recipe_csv = \"./recipe_toEng_test.csv\"\n",
    "# List of recipe index\n",
    "recipe_index = list(recipe_df.index)\n",
    "\n",
    "# 建立Function\n",
    "def GoRec(inputs):\n",
    "\n",
    "    in_csv = list()\n",
    "\n",
    "    # 建立已存在recipe csv檔案中的index list\n",
    "    if os.path.exists(recipe_csv):\n",
    "        _ = pd.read_csv(recipe_csv, names=['index', 'Eng_name'])\n",
    "        in_csv = list(_[\"index\"])\n",
    "\n",
    "    # 利用re取出recipe中各個食材\n",
    "    recipe = re.findall(\"\\'\\•*\\:*(\\w+)\\(*\\w*\\)*\\（*\\w*\\）*\\'\", recipe_df.loc[inputs][\"食材\"])\n",
    "    # 各食譜的英文食材List\n",
    "    engList = list()\n",
    "\n",
    "    # 檢查是否已在檔案裡\n",
    "    if inputs in in_csv:\n",
    "        pass\n",
    "    else:\n",
    "        # 將輸出儲存為csv\n",
    "        fieldnames = ['index', 'Eng_name']\n",
    "        with open(recipe_csv, \"a\", newline=\"\", encoding=\"utf-8\") as f:\n",
    "            writer = csv.DictWriter(f, delimiter=\",\", fieldnames=fieldnames)\n",
    "\n",
    "            # 若長度不為0則翻譯此食譜\n",
    "            if len(recipe) != 0:\n",
    "\n",
    "                # 逐一取出食材進行翻譯\n",
    "                for r in recipe:\n",
    "                    output = translator.translate(r, \"en\", \"zh\")\n",
    "                    engList.append(output)\n",
    "\n",
    "                # 直接寫入單筆食譜\n",
    "                writer.writerow({\"index\": inputs, \"Eng_name\": engList})\n",
    "                print(f\"index: {inputs} 資料寫入!!\")\n",
    "\n",
    "with concurrent.futures.ThreadPoolExecutor(max_workers=10) as executor:\n",
    "    executor.map(GoRec, recipe_index)"
   ]
  },
  {
   "cell_type": "code",
   "execution_count": 2,
   "metadata": {},
   "outputs": [
    {
     "name": "stdout",
     "output_type": "stream",
     "text": [
      "Collecting fake_useragent\n",
      "  Downloading fake-useragent-0.1.11.tar.gz (13 kB)\n",
      "Building wheels for collected packages: fake-useragent\n",
      "  Building wheel for fake-useragent (setup.py): started\n",
      "  Building wheel for fake-useragent (setup.py): finished with status 'done'\n",
      "  Created wheel for fake-useragent: filename=fake_useragent-0.1.11-py3-none-any.whl size=13489 sha256=abd07a08e5b8c92a732820d60574a603a85cc950a218861e119defd3301bf5fa\n",
      "  Stored in directory: c:\\users\\kin joe\\appdata\\local\\pip\\cache\\wheels\\a0\\b8\\b7\\8c942b2c5be5158b874a88195116b05ad124bac795f6665e65\n",
      "Successfully built fake-useragent\n",
      "Installing collected packages: fake-useragent\n",
      "Successfully installed fake-useragent-0.1.11\n"
     ]
    }
   ],
   "source": [
    "!pip install fake_useragent"
   ]
  },
  {
   "cell_type": "code",
   "execution_count": null,
   "metadata": {},
   "outputs": [],
   "source": []
  }
 ],
 "metadata": {
  "kernelspec": {
   "display_name": "Python 3",
   "language": "python",
   "name": "python3"
  },
  "language_info": {
   "codemirror_mode": {
    "name": "ipython",
    "version": 3
   },
   "file_extension": ".py",
   "mimetype": "text/x-python",
   "name": "python",
   "nbconvert_exporter": "python",
   "pygments_lexer": "ipython3",
   "version": "3.8.5"
  }
 },
 "nbformat": 4,
 "nbformat_minor": 4
}
