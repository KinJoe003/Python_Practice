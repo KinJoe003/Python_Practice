{
 "cells": [
  {
   "cell_type": "markdown",
   "id": "07ce0900",
   "metadata": {},
   "source": [
    "# 104人力銀行職缺資料爬取\n",
    "## csv存取"
   ]
  },
  {
   "cell_type": "code",
   "execution_count": 1,
   "id": "bdd5a755",
   "metadata": {},
   "outputs": [
    {
     "name": "stdout",
     "output_type": "stream",
     "text": [
      "https://www.104.com.tw/jobs/search/?ro=0&kwop=7&keyword=python&order=15&asc=0&page=1&mode=s&jobsource=2018indexpoc\n",
      "https://www.104.com.tw/jobs/search/?ro=0&kwop=7&keyword=python&order=15&asc=0&page=2&mode=s&jobsource=2018indexpoc\n",
      "https://www.104.com.tw/jobs/search/?ro=0&kwop=7&keyword=python&order=15&asc=0&page=3&mode=s&jobsource=2018indexpoc\n",
      "https://www.104.com.tw/jobs/search/?ro=0&kwop=7&keyword=python&order=15&asc=0&page=4&mode=s&jobsource=2018indexpoc\n",
      "https://www.104.com.tw/jobs/search/?ro=0&kwop=7&keyword=python&order=15&asc=0&page=5&mode=s&jobsource=2018indexpoc\n",
      "https://www.104.com.tw/jobs/search/?ro=0&kwop=7&keyword=python&order=15&asc=0&page=6&mode=s&jobsource=2018indexpoc\n",
      "https://www.104.com.tw/jobs/search/?ro=0&kwop=7&keyword=python&order=15&asc=0&page=7&mode=s&jobsource=2018indexpoc\n",
      "https://www.104.com.tw/jobs/search/?ro=0&kwop=7&keyword=python&order=15&asc=0&page=8&mode=s&jobsource=2018indexpoc\n",
      "https://www.104.com.tw/jobs/search/?ro=0&kwop=7&keyword=python&order=15&asc=0&page=9&mode=s&jobsource=2018indexpoc\n",
      "https://www.104.com.tw/jobs/search/?ro=0&kwop=7&keyword=python&order=15&asc=0&page=10&mode=s&jobsource=2018indexpoc\n"
     ]
    }
   ],
   "source": [
    "# coding=utf-8\n",
    "import requests\n",
    "from bs4 import BeautifulSoup\n",
    "import csv\n",
    "import random, time\n",
    "\n",
    "\n",
    "url_A = 'https://www.104.com.tw/jobs/search/?ro=0&kwop=7&keyword=python&order=15&asc=0&page='\n",
    "url_B = '&mode=s&jobsource=2018indexpoc'\n",
    "headers = {\n",
    "    \"Referer\": \"https://www.104.com.tw/jobs/search/?\",\n",
    "}\n",
    "\n",
    "all_job_datas = []\n",
    "for page in range(1, 10 + 1):\n",
    "    url = url_A + str(page) + url_B\n",
    "    print(url)\n",
    "    htmlFile = requests.get(url)\n",
    "    ObjSoup = BeautifulSoup(htmlFile.text, 'html.parser')\n",
    "    jobs = ObjSoup.find_all('article', class_='js-job-item')  # 搜尋所有職缺\n",
    "\n",
    "    for job in jobs:\n",
    "        job_name = job.find('a', class_=\"js-job-link\").text  # 職缺內容\n",
    "        job_company = job.get('data-cust-name')  # 公司名稱\n",
    "        job_des = job.find('p', class_ ='job-list-item__info b-clearfix b-content').text  # 內容\n",
    "        job_loc = job.find('ul', class_='job-list-intro').find('li').text  # 地址\n",
    "        job_pay = job.find('span', class_='b-tag--default').text  # 薪資\n",
    "        job_url = job.find('a').get('href')  # 網址\n",
    "        job_data = {'職缺內容': job_name, '公司名稱': job_company,\n",
    "                    '內容':job_des, '地址': job_loc, '薪資': job_pay, '網址': job_url}\n",
    "        all_job_datas.append(job_data)\n",
    "    time.sleep(random.randint(1, 3))\n",
    "\n",
    "fn = '104人力銀行職缺.csv'  # 取CSV檔名\n",
    "columns_name = ['職缺內容', '公司名稱', '內容', '地址', '薪資', '網址']  # 第一欄的名稱\n",
    "with open(fn, 'w', newline='', encoding=\"utf_8_sig\") as csvFile:  # 定義CSV的寫入檔,並且每次寫入完會換下一行\n",
    "    dictWriter = csv.DictWriter(csvFile, fieldnames=columns_name)  # 定義寫入器\n",
    "    dictWriter.writeheader()\n",
    "    for data in all_job_datas:\n",
    "        dictWriter.writerow(data)"
   ]
  },
  {
   "cell_type": "code",
   "execution_count": null,
   "id": "bba142b9",
   "metadata": {},
   "outputs": [],
   "source": []
  }
 ],
 "metadata": {
  "kernelspec": {
   "display_name": "Python 3",
   "language": "python",
   "name": "python3"
  },
  "language_info": {
   "codemirror_mode": {
    "name": "ipython",
    "version": 3
   },
   "file_extension": ".py",
   "mimetype": "text/x-python",
   "name": "python",
   "nbconvert_exporter": "python",
   "pygments_lexer": "ipython3",
   "version": "3.8.8"
  }
 },
 "nbformat": 4,
 "nbformat_minor": 5
}
