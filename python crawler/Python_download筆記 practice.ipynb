{
 "cells": [
  {
   "cell_type": "markdown",
   "id": "2d0fc69e",
   "metadata": {},
   "source": [
    "# 使用Python下載Youtube播放清單影片"
   ]
  },
  {
   "cell_type": "code",
   "execution_count": 5,
   "id": "0f9dd614",
   "metadata": {},
   "outputs": [
    {
     "name": "stdout",
     "output_type": "stream",
     "text": [
      "Collecting pytube\n",
      "  Downloading pytube-11.0.0-py3-none-any.whl (55 kB)\n",
      "Installing collected packages: pytube\n",
      "Successfully installed pytube-11.0.0\n"
     ]
    }
   ],
   "source": [
    "# 安裝套件\n",
    "!pip install pytube"
   ]
  },
  {
   "cell_type": "code",
   "execution_count": null,
   "id": "13c91967",
   "metadata": {},
   "outputs": [],
   "source": [
    "# 下載Youtube播放清單\n",
    "from pytube import Playlist\n",
    "pl = Playlist(\"https://www.youtube.com/XXXXXXXXXXXXXX\")\n",
    "pl.download_all('E:/')"
   ]
  },
  {
   "cell_type": "code",
   "execution_count": null,
   "id": "e34dc53d",
   "metadata": {},
   "outputs": [],
   "source": [
    "# 建立可以輸入網址的程式\n",
    "url=input('輸入播放清單網址:')\n",
    "from pytube import Playlist\n",
    "pl = Playlist(url)\n",
    "pl.download_all('G:/')"
   ]
  },
  {
   "cell_type": "markdown",
   "id": "5d03230a",
   "metadata": {},
   "source": [
    "# Python影片下載-You-Get使用筆記"
   ]
  },
  {
   "cell_type": "code",
   "execution_count": 3,
   "id": "ecological-tradition",
   "metadata": {},
   "outputs": [
    {
     "name": "stdout",
     "output_type": "stream",
     "text": [
      "Collecting you-get\n",
      "  Downloading you_get-0.4.1545-py3-none-any.whl (228 kB)\n",
      "Installing collected packages: you-get\n",
      "Successfully installed you-get-0.4.1545\n"
     ]
    }
   ],
   "source": [
    "# 安裝套件\n",
    "!pip install you-get\n",
    "# !pip3 install you-get"
   ]
  },
  {
   "cell_type": "code",
   "execution_count": null,
   "id": "gentle-peeing",
   "metadata": {},
   "outputs": [],
   "source": [
    "# 使用you-get下載影片\n",
    "you-get https://XXXX.XXX.XXX"
   ]
  },
  {
   "cell_type": "code",
   "execution_count": null,
   "id": "adaa601e",
   "metadata": {},
   "outputs": [],
   "source": [
    "# 使用you-get下載任何檔案(直接貼網址即可，you-get也能幫你爬出網頁中的內容)\n",
    "you-get https://XXXX.XXX.XXX"
   ]
  },
  {
   "cell_type": "code",
   "execution_count": null,
   "id": "89de933e",
   "metadata": {},
   "outputs": [],
   "source": [
    "# 使用you-get搜尋網路上影片，並且找出最相關的影片做下載\n",
    "you-get \"Richard Stallman eats\""
   ]
  },
  {
   "cell_type": "code",
   "execution_count": null,
   "id": "da8a775b",
   "metadata": {},
   "outputs": [],
   "source": [
    "# 使用you-get搭配播放器觀看影片\n",
    "you-get -p vlc 'https://www.youtube.com/watch?v=jNQXAC9IVRw'\n",
    "you-get -p chromium 'https://www.youtube.com/watch?v=jNQXAC9IVRw'"
   ]
  },
  {
   "cell_type": "code",
   "execution_count": null,
   "id": "major-prevention",
   "metadata": {},
   "outputs": [],
   "source": [
    "# 自定義保存位置，C:\\Users\\用戶名目錄下，使用如此命令即可。例如:E:\\Desktoptest\n",
    "you-get -o E:/Desktoptest https://XXXX.XXX.XXX"
   ]
  },
  {
   "cell_type": "code",
   "execution_count": null,
   "id": "c6964f53",
   "metadata": {},
   "outputs": [],
   "source": [
    "# 查看當前視頻的清晰度和格式\n",
    "you-get -i https://XXXX.XXX.XXX"
   ]
  },
  {
   "cell_type": "code",
   "execution_count": null,
   "id": "607442ad",
   "metadata": {},
   "outputs": [],
   "source": [
    "# 選擇需要下載的清晰度及格式\n",
    "you-get --format=mp4 https://XXXX.XXX.XXX\n",
    "# mp4欄位為可選擇的欄位   "
   ]
  }
 ],
 "metadata": {
  "kernelspec": {
   "display_name": "Python 3",
   "language": "python",
   "name": "python3"
  },
  "language_info": {
   "codemirror_mode": {
    "name": "ipython",
    "version": 3
   },
   "file_extension": ".py",
   "mimetype": "text/x-python",
   "name": "python",
   "nbconvert_exporter": "python",
   "pygments_lexer": "ipython3",
   "version": "3.8.8"
  }
 },
 "nbformat": 4,
 "nbformat_minor": 5
}
