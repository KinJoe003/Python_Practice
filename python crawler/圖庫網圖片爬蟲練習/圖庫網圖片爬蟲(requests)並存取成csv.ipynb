{
 "cells": [
  {
   "cell_type": "markdown",
   "id": "b45fc4b9",
   "metadata": {},
   "source": [
    "# 圖庫網圖片爬取\n",
    "### https://www.istockphoto.com\n",
    "## 存取csv檔\n",
    "### 第一欄為圖片內容敘述"
   ]
  },
  {
   "cell_type": "code",
   "execution_count": 4,
   "id": "18c96006",
   "metadata": {},
   "outputs": [
    {
     "name": "stdout",
     "output_type": "stream",
     "text": [
      "https://www.istockphoto.com/search/2/image?page=1&phrase=Beef\n",
      "https://www.istockphoto.com/search/2/image?page=2&phrase=Beef\n",
      "https://www.istockphoto.com/search/2/image?page=3&phrase=Beef\n",
      "https://www.istockphoto.com/search/2/image?page=4&phrase=Beef\n",
      "https://www.istockphoto.com/search/2/image?page=5&phrase=Beef\n"
     ]
    }
   ],
   "source": [
    "# coding=utf-8\n",
    "import requests\n",
    "from bs4 import BeautifulSoup\n",
    "import csv\n",
    "import random, time\n",
    "\n",
    "\n",
    "url_A = 'https://www.istockphoto.com/search/2/image?page='\n",
    "url_B = '&phrase=Beef'\n",
    "headers = {\n",
    "    \"Referer\": \"https://www.istockphoto.com/search/2/image?\",\n",
    "}\n",
    "\n",
    "all_job_datas = []\n",
    "for page in range(1, 5 + 1):\n",
    "    url = url_A + str(page) + url_B\n",
    "    print(url)\n",
    "    htmlFile = requests.get(url)\n",
    "    ObjSoup = BeautifulSoup(htmlFile.text, 'html.parser')\n",
    "    jobs = ObjSoup.find_all('article', class_='MosiacAsset-module__container___1bO9p')  # 搜尋所有職缺\n",
    "\n",
    "    for job in jobs:\n",
    "        job_name = job.find('figcaption', class_=\"MosiacAsset-module__figcaption___AKIMK\").text  # 內容\n",
    "        job_url = job.find('img').get('src')  # 網址\n",
    "        job_data = {'圖片內容': job_name, '網址': job_url}\n",
    "        all_job_datas.append(job_data)\n",
    "    time.sleep(random.randint(1, 3))\n",
    "\n",
    "fn = '牛排.csv'  # 取CSV檔名\n",
    "columns_name = ['圖片內容', '網址']  # 第一欄的名稱\n",
    "with open(fn, 'w', newline='', encoding=\"utf-8_sig\") as csvFile:  # 定義CSV的寫入檔,並且每次寫入完會換下一行\n",
    "    dictWriter = csv.DictWriter(csvFile, fieldnames=columns_name)  # 定義寫入器\n",
    "    dictWriter.writeheader()\n",
    "    for data in all_job_datas:\n",
    "        dictWriter.writerow(data)"
   ]
  },
  {
   "cell_type": "markdown",
   "id": "9e8e5573",
   "metadata": {},
   "source": [
    "# 圖庫網圖片爬取\n",
    "### https://www.istockphoto.com\n",
    "## 存取csv檔\n",
    "### 第一欄為圖片名稱"
   ]
  },
  {
   "cell_type": "code",
   "execution_count": 3,
   "id": "e6590fba",
   "metadata": {},
   "outputs": [
    {
     "name": "stdout",
     "output_type": "stream",
     "text": [
      "https://www.istockphoto.com/search/2/image?page=1&phrase=steak\n",
      "https://www.istockphoto.com/search/2/image?page=2&phrase=steak\n",
      "https://www.istockphoto.com/search/2/image?page=3&phrase=steak\n",
      "https://www.istockphoto.com/search/2/image?page=4&phrase=steak\n",
      "https://www.istockphoto.com/search/2/image?page=5&phrase=steak\n"
     ]
    }
   ],
   "source": [
    "# coding=utf-8\n",
    "import requests\n",
    "from bs4 import BeautifulSoup\n",
    "import csv\n",
    "import random, time\n",
    "\n",
    "\n",
    "url_A = 'https://www.istockphoto.com/search/2/image?page='\n",
    "url_B = '&phrase=steak'\n",
    "headers = {\n",
    "    \"Referer\": \"https://www.istockphoto.com/search/2/image?\",\n",
    "}\n",
    "\n",
    "all_job_datas = []\n",
    "for page in range(1, 5 + 1):\n",
    "    url = url_A + str(page) + url_B\n",
    "    print(url)\n",
    "    htmlFile = requests.get(url)\n",
    "    ObjSoup = BeautifulSoup(htmlFile.text, 'html.parser')\n",
    "    jobs = ObjSoup.find_all('article', class_='MosiacAsset-module__container___1bO9p')  # 搜尋所有\n",
    "\n",
    "    for job in jobs:\n",
    "        job_name = job.find('meta').get('content')  # 名稱\n",
    "        job_url = job.find('img').get('src')  # 網址\n",
    "        job_data = {'名稱': job_name, '網址': job_url}\n",
    "        all_job_datas.append(job_data)\n",
    "    time.sleep(random.randint(1, 3))\n",
    "\n",
    "fn = '牛排1.csv'  # 取CSV檔名\n",
    "columns_name = ['名稱', '網址']  # 第一欄的名稱\n",
    "with open(fn, 'w', newline='', encoding=\"utf_8_sig\") as csvFile:  # 定義CSV的寫入檔,並且每次寫入完會換下一行\n",
    "    dictWriter = csv.DictWriter(csvFile, fieldnames=columns_name)  # 定義寫入器\n",
    "    dictWriter.writeheader()\n",
    "    for data in all_job_datas:\n",
    "        dictWriter.writerow(data)"
   ]
  },
  {
   "cell_type": "markdown",
   "id": "cc60ce32",
   "metadata": {},
   "source": [
    "# 圖片下載\n",
    "## 讀取CSV內的圖片連結"
   ]
  },
  {
   "cell_type": "code",
   "execution_count": null,
   "id": "f2204954",
   "metadata": {},
   "outputs": [],
   "source": [
    "#載入requests套件\n",
    "import requests\n",
    "#需要載入os套件，可處理文件和目錄\n",
    "import os\n",
    "#創建目錄\n",
    "os.makedirs('./img/',exist_ok=True)\n",
    "url='圖片網址'\n",
    "r=requests.get(url)\n",
    "with open('./img/圖片名稱','wb') as f:\n",
    "#將圖片下載下來\n",
    "    f.write(r.content)"
   ]
  }
 ],
 "metadata": {
  "kernelspec": {
   "display_name": "Python 3",
   "language": "python",
   "name": "python3"
  },
  "language_info": {
   "codemirror_mode": {
    "name": "ipython",
    "version": 3
   },
   "file_extension": ".py",
   "mimetype": "text/x-python",
   "name": "python",
   "nbconvert_exporter": "python",
   "pygments_lexer": "ipython3",
   "version": "3.8.8"
  }
 },
 "nbformat": 4,
 "nbformat_minor": 5
}
